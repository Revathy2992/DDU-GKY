{
 "cells": [
  {
   "cell_type": "markdown",
   "id": "f35e6bdb",
   "metadata": {},
   "source": [
    "###### 1.  How to use the \"and\" operator ?\n"
   ]
  },
  {
   "cell_type": "markdown",
   "id": "505b37dc",
   "metadata": {},
   "source": [
    "###### The government of India conducted blood donation campaign on june 21st in every state. if a person age is above 21, the person is eligible for this campaign but if the person age is below 21 , the person is not eligible for this blood donation campaign. if the person age is over 40 they could not get a chance to participate in this campaign."
   ]
  },
  {
   "cell_type": "code",
   "execution_count": 23,
   "id": "9ca7cd8a",
   "metadata": {},
   "outputs": [
    {
     "name": "stdout",
     "output_type": "stream",
     "text": [
      "Enter the person's Age: 23\n",
      "The person is eligible for the blood donation campaign.\n"
     ]
    }
   ],
   "source": [
    "Age = int(input(\"Enter the person's Age: \"))\n",
    "\n",
    "if Age > 21 and Age < 40:\n",
    "    print(\"The person is eligible for the blood donation campaign.\")\n",
    "else:\n",
    "    print(\"The person is not eligible for the blood donation campaign.\")\n"
   ]
  },
  {
   "cell_type": "markdown",
   "id": "171226da",
   "metadata": {},
   "source": [
    "###### 2. In 2023, India's 74th Republic day celebration, many National Cadet Corps(NCC) cadets who get a chance to participate in the republic day programmes. In this context, the eligibility criteria of RDC cadets is ,if the cadet is SW, their age limit is b/w 18and 21 but the cadet is SD , their age criteria is from 18 to 23.in any gender more than 24, they could not participate RDC parade."
   ]
  },
  {
   "cell_type": "code",
   "execution_count": 9,
   "id": "66bbd4f3",
   "metadata": {},
   "outputs": [
    {
     "name": "stdout",
     "output_type": "stream",
     "text": [
      "enter the sex:SW\n",
      "enter the Age:23\n",
      "not eligible\n"
     ]
    }
   ],
   "source": [
    "Sex=input('enter the sex:')\n",
    "Age=int(input('enter the Age:'))\n",
    "if Sex ==  'SW':\n",
    "    if 18<Age<21:\n",
    "        print('SW are eligible')\n",
    "    else:\n",
    "        print('not eligible')\n",
    "elif Sex == 'SD':\n",
    "    if 18<Age<=23:\n",
    "        print('SD are eligble')\n",
    "    else:\n",
    "        print('not eligible')"
   ]
  },
  {
   "cell_type": "markdown",
   "id": "e84676c5",
   "metadata": {},
   "source": [
    "###### How to use the \"OR\" operator ?"
   ]
  },
  {
   "cell_type": "markdown",
   "id": "7ab0e094",
   "metadata": {},
   "source": [
    "######    3.  In 2023, Indian army soldier recruitment will  be  conducted on 10th of october, the  vaccancy of this recruitment allowcate by the govt  to both genders  is total 125  strength  all over the world. In this case,  the defence service allowcating the vaccancy is neither male=63 and female=62 or male=62 and female=63."
   ]
  },
  {
   "cell_type": "code",
   "execution_count": 25,
   "id": "04f1766d",
   "metadata": {},
   "outputs": [
    {
     "name": "stdout",
     "output_type": "stream",
     "text": [
      "Enter the number of male vacancies: 62\n",
      "Enter the number of female vacancies: 63\n",
      "The vacancy allocation is valid.\n"
     ]
    }
   ],
   "source": [
    "male_vacancies = int(input(\"Enter the number of male vacancies: \"))\n",
    "female_vacancies = int(input(\"Enter the number of female vacancies: \"))\n",
    "\n",
    "if (male_vacancies == 63 and female_vacancies == 62) or (male_vacancies == 62 and female_vacancies == 63):\n",
    "    print(\"The vacancy allocation is valid.\")\n",
    "else:\n",
    "    print(\"The vacancy allocation is not valid.\")\n"
   ]
  },
  {
   "cell_type": "markdown",
   "id": "cd16854f",
   "metadata": {},
   "source": [
    "###### 4.  In 2023, Indian army soldier recruitment will be conducted on 10th of october, only male candidates who have eligible for this soldier recruitment. The candidates must have age is between 18 and 23 and the candidates must have weight is greater than 50."
   ]
  },
  {
   "cell_type": "code",
   "execution_count": 21,
   "id": "faddaf06",
   "metadata": {},
   "outputs": [
    {
     "name": "stdout",
     "output_type": "stream",
     "text": [
      "enter the Sex:male\n",
      "enter the Age:23\n",
      "enter the weight:50\n",
      "you are eligible for 2023 army recruitment\n"
     ]
    }
   ],
   "source": [
    "Sex=input('enter the Sex:')\n",
    "Age=int(input('enter the Age:'))\n",
    "Weight=int(input('enter the weight:'))\n",
    "if Sex == 'male':\n",
    "    if 18<Age>=23:\n",
    "        if Weight>=50:\n",
    "            print('you are eligible for 2023 army recruitment')\n",
    "else:\n",
    "    print('you are not eligible for 2023 army recruitment')"
   ]
  },
  {
   "cell_type": "markdown",
   "id": "5664dca0",
   "metadata": {},
   "source": [
    "###### 5.  The government of India conducted blood donation campaign on june 21st in every state. if a person age is above 21, the person is eligible for this campaign but if the person age is below 21 , the person is not eligible for this blood donation campaign. if the person age is over 40 they could not get a chance to participate in this campaign.¶"
   ]
  },
  {
   "cell_type": "code",
   "execution_count": 1,
   "id": "eb386396",
   "metadata": {},
   "outputs": [
    {
     "name": "stdout",
     "output_type": "stream",
     "text": [
      "enter the age:23\n",
      "The person is eligible for this campaign\n"
     ]
    }
   ],
   "source": [
    "Age=int(input('enter the age:'))\n",
    "if Age>21:\n",
    "    print('The person is eligible for this campaign')\n",
    "elif Age<21:\n",
    "        print('The person is not eligible for this campaign')\n",
    "else:\n",
    "    print('The person could not get a chance to participate in this campaign')"
   ]
  },
  {
   "cell_type": "markdown",
   "id": "3dfb645e",
   "metadata": {},
   "source": [
    "###### 6.  In  2023 diwali period , the amazon online shoping platform conducted a offer  sale. But only two  category  of people who get this offer,the first one is  "
   ]
  }
 ],
 "metadata": {
  "kernelspec": {
   "display_name": "Python 3 (ipykernel)",
   "language": "python",
   "name": "python3"
  },
  "language_info": {
   "codemirror_mode": {
    "name": "ipython",
    "version": 3
   },
   "file_extension": ".py",
   "mimetype": "text/x-python",
   "name": "python",
   "nbconvert_exporter": "python",
   "pygments_lexer": "ipython3",
   "version": "3.10.9"
  }
 },
 "nbformat": 4,
 "nbformat_minor": 5
}
