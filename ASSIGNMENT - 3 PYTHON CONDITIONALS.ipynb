{
 "cells": [
  {
   "cell_type": "markdown",
   "id": "9abb2b42",
   "metadata": {},
   "source": [
    "###### 1.  As a Python developer, you are working on a program that needs to check multiple conditions in a single if statement. You are building a program to check the eligibility of children to ride a rollercoaster in an amusement park. The rollercoaster has a minimum height requirement of 120 cm and a maximum weight limit of 150 kg. You need to write a Python program to check whether a child is eligible to ride the rollercoaster based on their height and weight.   Can you use multiple conditions in a single if statement in Python to check if a child is eligible to ride the rollercoaster?"
   ]
  },
  {
   "cell_type": "code",
   "execution_count": 1,
   "id": "9adbd1ec",
   "metadata": {},
   "outputs": [
    {
     "name": "stdout",
     "output_type": "stream",
     "text": [
      "Enter child's height (in cm): 123\n",
      "Enter child's weight (in kg): 123\n",
      "Child is eligible to ride the rollercoaster.\n"
     ]
    }
   ],
   "source": [
    "height = float(input(\"Enter child's height (in cm): \"))\n",
    "weight = float(input(\"Enter child's weight (in kg): \"))\n",
    "if height >= 120 and weight <= 150:\n",
    "    print(\"Child is eligible to ride the rollercoaster.\")\n",
    "else:\n",
    "    print(\"Child is not eligible to ride the rollercoaster.\")"
   ]
  },
  {
   "cell_type": "markdown",
   "id": "aa65decd",
   "metadata": {},
   "source": [
    "#####    2. How to use the \"and\" operator ?  "
   ]
  },
  {
   "cell_type": "markdown",
   "id": "f606e898",
   "metadata": {},
   "source": [
    "######                                                                                                                                                                                                                                                                                                                                                                                                                                                   John is working on a Python program where he needs to check if two conditions are true at the same time. John is a programmer who is working on a program that evaluates students' grades based on their scores on two exams. He wants to filter out the students who scored less than 60 on both exams and calculate the average score of the remaining students. He knows he can use the \"and\" operator to combine two conditions in an if statement. How to use the \"and\" operator in a conditional statement in Python? \n",
    " "
   ]
  },
  {
   "cell_type": "code",
   "execution_count": 4,
   "id": "a4d18b00",
   "metadata": {
    "scrolled": true
   },
   "outputs": [
    {
     "name": "stdout",
     "output_type": "stream",
     "text": [
      "{'a': 30, 'b': 40}\n",
      "{'a': 40, 'd': 50}\n",
      "avg of exam1: 70.0\n",
      "avg of exam1: 105.5\n"
     ]
    }
   ],
   "source": [
    "exm1={'a':30,'b':40,'c':70}\n",
    "exm2={'a':40,\"b\":61,'d':50,'e':80}\n",
    "marks1={}\n",
    "sum=0\n",
    "avg=0\n",
    "for x,i in exm1.items():\n",
    "    if i<60:\n",
    "        marks1[x]=i\n",
    "print(marks1)\n",
    "marks2={}\n",
    "for x,i in exm2.items():\n",
    "    if i<60:\n",
    "        marks2[x]=i\n",
    "print(marks2)\n",
    "for i in exm1.values():\n",
    "    if i>60:\n",
    "        sum+=i\n",
    "        avg=sum/(len(exm1)-len(marks1))\n",
    "print(\"avg of exam1:\",avg)\n",
    "for i in exm2.values():\n",
    "    if i>60:\n",
    "        sum+=i\n",
    "        avg=sum/(len(exm2)-len(marks2))\n",
    "print(\"avg of exam1:\",avg)"
   ]
  },
  {
   "cell_type": "code",
   "execution_count": 3,
   "id": "e090080f",
   "metadata": {},
   "outputs": [
    {
     "name": "stdout",
     "output_type": "stream",
     "text": [
      "The average score is: 77.5\n"
     ]
    }
   ],
   "source": [
    "# Initialize a list of student scores\n",
    "scores = [75, 80, 55, 90, 65, 50]\n",
    "\n",
    "# Filter out students who scored less than 60 on both exams\n",
    "filtered_scores = [score for score in scores if score >= 60 and score <= 100]\n",
    "\n",
    "# Calculate the average score of the remaining students\n",
    "if len(filtered_scores) > 0:\n",
    "    average_score = sum(filtered_scores) / len(filtered_scores)\n",
    "    print(\"The average score is:\", average_score)\n",
    "else:\n",
    "    print(\"No students scored above 60 on both exams.\")"
   ]
  },
  {
   "cell_type": "markdown",
   "id": "5f080350",
   "metadata": {},
   "source": [
    "###### 3.  Sarah is working on a program that needs to perform different actions based on the user input. For example, if the user enters \"A\", the program needs to display \"Option A selected,\" and if the user enters \"B\", it needs to display \"Option B selected.\" Sarah knows that she can achieve this by using if statements to check the user input and execute the corresponding block of code. How do you use if statements to execute different blocks of code based on certain conditions in Python?"
   ]
  },
  {
   "cell_type": "code",
   "execution_count": 4,
   "id": "ccc7b483",
   "metadata": {},
   "outputs": [
    {
     "name": "stdout",
     "output_type": "stream",
     "text": [
      "Enter an option (A/B): A\n",
      "Option A selected.\n"
     ]
    }
   ],
   "source": [
    "user_input = input(\"Enter an option (A/B): \")\n",
    "\n",
    "if user_input == \"A\":\n",
    "    print(\"Option A selected.\")\n",
    "    \n",
    "elif user_input == \"B\":\n",
    "    print(\"Option B selected.\")\n",
    "    \n",
    "else:\n",
    "    print(\"Invalid option selected.\")"
   ]
  },
  {
   "cell_type": "markdown",
   "id": "0c5e65ca",
   "metadata": {},
   "source": [
    "###### 4.  Sarah is working on a Python program that involves conditional statements. She has used \"if\" and \"else\" statements before, but now she wants to learn about the \"elif\" statement and how it can be used to improve her code. Sarah is working on a program that calculates the total cost of a customer's order based on the items they have selected. She needs to offer discounts to customers who have ordered a certain number of items, and she wants to use a conditional statement to determine the discount amount. She has already used an \"if\" statement to check if the customer has ordered more than a certain number of items, but now she wants to add more conditions and use the \"elif\" statement to offer different discounts based on the number of items ordered.                                                                                                                                                                                   \n",
    "Help her to use \"elif\" statement in a Python conditional statement, and explain how does it differ from \"else\" and \"if\"? "
   ]
  },
  {
   "cell_type": "code",
   "execution_count": 2,
   "id": "865f11f4",
   "metadata": {},
   "outputs": [
    {
     "name": "stdout",
     "output_type": "stream",
     "text": [
      "you qualify for a 20% discount\n"
     ]
    }
   ],
   "source": [
    "ordered_items=30\n",
    "\n",
    "if ordered_items>20:\n",
    "    print('you qualify for a 20% discount')\n",
    "elif items_ordered>10:\n",
    "    discount=0.1\n",
    "    print('you qualify for a 10% discount')\n",
    "else:\n",
    "    discount=0\n",
    "    print('no discount is applicable')"
   ]
  },
  {
   "cell_type": "markdown",
   "id": "45b2c86c",
   "metadata": {},
   "source": [
    "##### 5.  Ali is working on a project that requires him to check the age of the user before allowing them to access certain features. He wants to ensure that users who are under 18 years old cannot access certain parts of the website. To do this, he uses a conditional statement with the \"not\" operator to check whether the user's age is less than 18. If the user's age is less than 18, the program displays a message stating that the user is not allowed to access the feature.  How can Ali use the \"not\" operator in a conditional statement to ensure that users under the age of 18 cannot access certain parts of the website in Python?"
   ]
  },
  {
   "cell_type": "code",
   "execution_count": 5,
   "id": "74f7e052",
   "metadata": {},
   "outputs": [
    {
     "name": "stdout",
     "output_type": "stream",
     "text": [
      "please enter your age:50\n",
      "you are allowed to access the feature\n"
     ]
    }
   ],
   "source": [
    "age=int(input(\"please enter your age:\"))\n",
    "\n",
    "if not age <18:\n",
    "    print(\"you are allowed to access the feature\")\n",
    "else:\n",
    "    print(\"not\")"
   ]
  },
  {
   "cell_type": "markdown",
   "id": "c5f05673",
   "metadata": {},
   "source": [
    "###### 1.Sara wants to create a Python program that calculates the area of a rectangle. She knows that the formula for calculating the area of a rectangle is length multiplied by width. How can Sara write a Python program that prompts the user to enter the length and width of a rectangle, calculates the area using the formula, and then displays the result to the user?"
   ]
  },
  {
   "cell_type": "code",
   "execution_count": 1,
   "id": "9e46d8b2",
   "metadata": {},
   "outputs": [
    {
     "name": "stdout",
     "output_type": "stream",
     "text": [
      "Enter the length of the rectangle: 20\n",
      "Enter the width of the rectangle: 32\n",
      "The area of the rectangle is: 640.0\n"
     ]
    }
   ],
   "source": [
    "length = float(input(\"Enter the length of the rectangle: \"))\n",
    "width = float(input(\"Enter the width of the rectangle: \"))\n",
    "if length > 0 and width > 0:\n",
    "    area = length * width\n",
    "    print(\"The area of the rectangle is:\", area)\n",
    "else:\n",
    "    print(\"Please enter positive values for length and width.\")\n"
   ]
  },
  {
   "cell_type": "code",
   "execution_count": 3,
   "id": "9a8e6678",
   "metadata": {},
   "outputs": [
    {
     "name": "stdout",
     "output_type": "stream",
     "text": [
      "Enter the length of the rectangle: 20\n",
      "Enter the width of the rectangle: 30\n",
      "The area of the rectangle is: 600.0\n"
     ]
    }
   ],
   "source": [
    "def calculate_area():\n",
    "    length = input(\"Enter the length of the rectangle: \")\n",
    "    width = input(\"Enter the width of the rectangle: \")\n",
    "\n",
    "    if length.isdigit() and width.isdigit():\n",
    "        length = float(length)\n",
    "        width = float(width)\n",
    "\n",
    "        if length > 0 and width > 0:\n",
    "            area = length * width\n",
    "            print(\"The area of the rectangle is:\", area)\n",
    "        else:\n",
    "            print(\"Invalid input. Length and width must be positive numbers.\")\n",
    "    else:\n",
    "        print(\"Invalid input. Please enter valid numeric values for length and width.\")\n",
    "\n",
    "calculate_area()"
   ]
  },
  {
   "cell_type": "markdown",
   "id": "29892b6e",
   "metadata": {},
   "source": [
    "###### 2. The government of India conducted blood donation campaign on june 21st in every state. if a person age is above 21, the person is eligible for this campaign but if the person age is below 21 , the person is not eligible for this blood donation campaign. if the person age is over 40 they could not get a chance to participate in this campaign."
   ]
  },
  {
   "cell_type": "code",
   "execution_count": 2,
   "id": "8b3f6a4e",
   "metadata": {},
   "outputs": [
    {
     "name": "stdout",
     "output_type": "stream",
     "text": [
      "enter the age:23\n",
      "The person is eligible for this campaign\n"
     ]
    }
   ],
   "source": [
    "Age=int(input('enter the age:'))\n",
    "if Age>21:\n",
    "    print('The person is eligible for this campaign')\n",
    "elif Age<21:\n",
    "        print('The person is not eligible for this campaign')\n",
    "else:\n",
    "    print('The person could not get a chance to participate in this campaign')"
   ]
  },
  {
   "cell_type": "markdown",
   "id": "7025e46e",
   "metadata": {},
   "source": [
    "###### 3.   In 2023, Indian army soldier recruitment will  be  conducted on 10th of october, only male candidates who have eligible for this soldier recruitment. The candidates must have  age is between 18 and 23 and the candidates must have weight is greater than 50."
   ]
  },
  {
   "cell_type": "code",
   "execution_count": 2,
   "id": "854de1b0",
   "metadata": {},
   "outputs": [
    {
     "name": "stdout",
     "output_type": "stream",
     "text": [
      "enter the Sex:female\n",
      "enter the Age:22\n",
      "enter the weight:55\n",
      "you are not eligible for 2023 army recruitment\n"
     ]
    }
   ],
   "source": [
    "Sex=input('enter the Sex:')\n",
    "Age=int(input('enter the Age:'))\n",
    "Weight=int(input('enter the weight:'))\n",
    "if Sex == 'male':\n",
    "    if 18<Age>23:\n",
    "        if Weight>50:\n",
    "            print('you are eligible for 2023 army recruitment')\n",
    "else:\n",
    "    print('you are not eligible for 2023 army recruitment')\n"
   ]
  },
  {
   "cell_type": "code",
   "execution_count": null,
   "id": "ed6eeb35",
   "metadata": {},
   "outputs": [],
   "source": []
  },
  {
   "cell_type": "code",
   "execution_count": null,
   "id": "b19a1adf",
   "metadata": {},
   "outputs": [],
   "source": []
  }
 ],
 "metadata": {
  "kernelspec": {
   "display_name": "Python 3 (ipykernel)",
   "language": "python",
   "name": "python3"
  },
  "language_info": {
   "codemirror_mode": {
    "name": "ipython",
    "version": 3
   },
   "file_extension": ".py",
   "mimetype": "text/x-python",
   "name": "python",
   "nbconvert_exporter": "python",
   "pygments_lexer": "ipython3",
   "version": "3.10.9"
  }
 },
 "nbformat": 4,
 "nbformat_minor": 5
}
