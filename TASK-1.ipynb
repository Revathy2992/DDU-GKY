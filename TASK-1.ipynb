{
 "cells": [
  {
   "cell_type": "code",
   "execution_count": 1,
   "id": "643ccc99",
   "metadata": {},
   "outputs": [],
   "source": [
    "import pandas as pd\n",
    "import numpy as np\n",
    "import matplotlib.pyplot as plt\n",
    "import seaborn as sns\n",
    "import warnings\n",
    "warnings.filterwarnings('ignore')"
   ]
  },
  {
   "cell_type": "code",
   "execution_count": 2,
   "id": "4b1f2583",
   "metadata": {},
   "outputs": [
    {
     "data": {
      "text/html": [
       "<div>\n",
       "<style scoped>\n",
       "    .dataframe tbody tr th:only-of-type {\n",
       "        vertical-align: middle;\n",
       "    }\n",
       "\n",
       "    .dataframe tbody tr th {\n",
       "        vertical-align: top;\n",
       "    }\n",
       "\n",
       "    .dataframe thead th {\n",
       "        text-align: right;\n",
       "    }\n",
       "</style>\n",
       "<table border=\"1\" class=\"dataframe\">\n",
       "  <thead>\n",
       "    <tr style=\"text-align: right;\">\n",
       "      <th></th>\n",
       "      <th>Unique Key</th>\n",
       "      <th>Created Date</th>\n",
       "      <th>Closed Date</th>\n",
       "      <th>Agency</th>\n",
       "      <th>Agency Name</th>\n",
       "      <th>Complaint Type</th>\n",
       "      <th>Descriptor</th>\n",
       "      <th>Location Type</th>\n",
       "      <th>Incident Zip</th>\n",
       "      <th>Incident Address</th>\n",
       "      <th>...</th>\n",
       "      <th>Bridge Highway Name</th>\n",
       "      <th>Bridge Highway Direction</th>\n",
       "      <th>Road Ramp</th>\n",
       "      <th>Bridge Highway Segment</th>\n",
       "      <th>Garage Lot Name</th>\n",
       "      <th>Ferry Direction</th>\n",
       "      <th>Ferry Terminal Name</th>\n",
       "      <th>Latitude</th>\n",
       "      <th>Longitude</th>\n",
       "      <th>Location</th>\n",
       "    </tr>\n",
       "  </thead>\n",
       "  <tbody>\n",
       "    <tr>\n",
       "      <th>0</th>\n",
       "      <td>32310363</td>\n",
       "      <td>12/31/2015 11:59:45 PM</td>\n",
       "      <td>01/01/2016 12:55:15 AM</td>\n",
       "      <td>NYPD</td>\n",
       "      <td>New York City Police Department</td>\n",
       "      <td>Noise - Street/Sidewalk</td>\n",
       "      <td>Loud Music/Party</td>\n",
       "      <td>Street/Sidewalk</td>\n",
       "      <td>10034.0</td>\n",
       "      <td>71 VERMILYEA AVENUE</td>\n",
       "      <td>...</td>\n",
       "      <td>NaN</td>\n",
       "      <td>NaN</td>\n",
       "      <td>NaN</td>\n",
       "      <td>NaN</td>\n",
       "      <td>NaN</td>\n",
       "      <td>NaN</td>\n",
       "      <td>NaN</td>\n",
       "      <td>40.865682</td>\n",
       "      <td>-73.923501</td>\n",
       "      <td>(40.86568153633767, -73.92350095571744)</td>\n",
       "    </tr>\n",
       "    <tr>\n",
       "      <th>1</th>\n",
       "      <td>32309934</td>\n",
       "      <td>12/31/2015 11:59:44 PM</td>\n",
       "      <td>01/01/2016 01:26:57 AM</td>\n",
       "      <td>NYPD</td>\n",
       "      <td>New York City Police Department</td>\n",
       "      <td>Blocked Driveway</td>\n",
       "      <td>No Access</td>\n",
       "      <td>Street/Sidewalk</td>\n",
       "      <td>11105.0</td>\n",
       "      <td>27-07 23 AVENUE</td>\n",
       "      <td>...</td>\n",
       "      <td>NaN</td>\n",
       "      <td>NaN</td>\n",
       "      <td>NaN</td>\n",
       "      <td>NaN</td>\n",
       "      <td>NaN</td>\n",
       "      <td>NaN</td>\n",
       "      <td>NaN</td>\n",
       "      <td>40.775945</td>\n",
       "      <td>-73.915094</td>\n",
       "      <td>(40.775945312321085, -73.91509393898605)</td>\n",
       "    </tr>\n",
       "    <tr>\n",
       "      <th>2</th>\n",
       "      <td>32309159</td>\n",
       "      <td>12/31/2015 11:59:29 PM</td>\n",
       "      <td>01/01/2016 04:51:03 AM</td>\n",
       "      <td>NYPD</td>\n",
       "      <td>New York City Police Department</td>\n",
       "      <td>Blocked Driveway</td>\n",
       "      <td>No Access</td>\n",
       "      <td>Street/Sidewalk</td>\n",
       "      <td>10458.0</td>\n",
       "      <td>2897 VALENTINE AVENUE</td>\n",
       "      <td>...</td>\n",
       "      <td>NaN</td>\n",
       "      <td>NaN</td>\n",
       "      <td>NaN</td>\n",
       "      <td>NaN</td>\n",
       "      <td>NaN</td>\n",
       "      <td>NaN</td>\n",
       "      <td>NaN</td>\n",
       "      <td>40.870325</td>\n",
       "      <td>-73.888525</td>\n",
       "      <td>(40.870324522111424, -73.88852464418646)</td>\n",
       "    </tr>\n",
       "    <tr>\n",
       "      <th>3</th>\n",
       "      <td>32305098</td>\n",
       "      <td>12/31/2015 11:57:46 PM</td>\n",
       "      <td>01/01/2016 07:43:13 AM</td>\n",
       "      <td>NYPD</td>\n",
       "      <td>New York City Police Department</td>\n",
       "      <td>Illegal Parking</td>\n",
       "      <td>Commercial Overnight Parking</td>\n",
       "      <td>Street/Sidewalk</td>\n",
       "      <td>10461.0</td>\n",
       "      <td>2940 BAISLEY AVENUE</td>\n",
       "      <td>...</td>\n",
       "      <td>NaN</td>\n",
       "      <td>NaN</td>\n",
       "      <td>NaN</td>\n",
       "      <td>NaN</td>\n",
       "      <td>NaN</td>\n",
       "      <td>NaN</td>\n",
       "      <td>NaN</td>\n",
       "      <td>40.835994</td>\n",
       "      <td>-73.828379</td>\n",
       "      <td>(40.83599404683083, -73.82837939584206)</td>\n",
       "    </tr>\n",
       "    <tr>\n",
       "      <th>4</th>\n",
       "      <td>32306529</td>\n",
       "      <td>12/31/2015 11:56:58 PM</td>\n",
       "      <td>01/01/2016 03:24:42 AM</td>\n",
       "      <td>NYPD</td>\n",
       "      <td>New York City Police Department</td>\n",
       "      <td>Illegal Parking</td>\n",
       "      <td>Blocked Sidewalk</td>\n",
       "      <td>Street/Sidewalk</td>\n",
       "      <td>11373.0</td>\n",
       "      <td>87-14 57 ROAD</td>\n",
       "      <td>...</td>\n",
       "      <td>NaN</td>\n",
       "      <td>NaN</td>\n",
       "      <td>NaN</td>\n",
       "      <td>NaN</td>\n",
       "      <td>NaN</td>\n",
       "      <td>NaN</td>\n",
       "      <td>NaN</td>\n",
       "      <td>40.733060</td>\n",
       "      <td>-73.874170</td>\n",
       "      <td>(40.733059618956815, -73.87416975810375)</td>\n",
       "    </tr>\n",
       "    <tr>\n",
       "      <th>5</th>\n",
       "      <td>32306554</td>\n",
       "      <td>12/31/2015 11:56:30 PM</td>\n",
       "      <td>01/01/2016 01:50:11 AM</td>\n",
       "      <td>NYPD</td>\n",
       "      <td>New York City Police Department</td>\n",
       "      <td>Illegal Parking</td>\n",
       "      <td>Posted Parking Sign Violation</td>\n",
       "      <td>Street/Sidewalk</td>\n",
       "      <td>11215.0</td>\n",
       "      <td>260 21 STREET</td>\n",
       "      <td>...</td>\n",
       "      <td>NaN</td>\n",
       "      <td>NaN</td>\n",
       "      <td>NaN</td>\n",
       "      <td>NaN</td>\n",
       "      <td>NaN</td>\n",
       "      <td>NaN</td>\n",
       "      <td>NaN</td>\n",
       "      <td>40.660823</td>\n",
       "      <td>-73.992568</td>\n",
       "      <td>(40.66082272389114, -73.99256786342693)</td>\n",
       "    </tr>\n",
       "    <tr>\n",
       "      <th>6</th>\n",
       "      <td>32306559</td>\n",
       "      <td>12/31/2015 11:55:32 PM</td>\n",
       "      <td>01/01/2016 01:53:54 AM</td>\n",
       "      <td>NYPD</td>\n",
       "      <td>New York City Police Department</td>\n",
       "      <td>Illegal Parking</td>\n",
       "      <td>Blocked Hydrant</td>\n",
       "      <td>Street/Sidewalk</td>\n",
       "      <td>10032.0</td>\n",
       "      <td>524 WEST 169 STREET</td>\n",
       "      <td>...</td>\n",
       "      <td>NaN</td>\n",
       "      <td>NaN</td>\n",
       "      <td>NaN</td>\n",
       "      <td>NaN</td>\n",
       "      <td>NaN</td>\n",
       "      <td>NaN</td>\n",
       "      <td>NaN</td>\n",
       "      <td>40.840848</td>\n",
       "      <td>-73.937375</td>\n",
       "      <td>(40.840847591440415, -73.9373750864581)</td>\n",
       "    </tr>\n",
       "    <tr>\n",
       "      <th>7</th>\n",
       "      <td>32307009</td>\n",
       "      <td>12/31/2015 11:54:05 PM</td>\n",
       "      <td>01/01/2016 01:42:54 AM</td>\n",
       "      <td>NYPD</td>\n",
       "      <td>New York City Police Department</td>\n",
       "      <td>Blocked Driveway</td>\n",
       "      <td>No Access</td>\n",
       "      <td>Street/Sidewalk</td>\n",
       "      <td>10457.0</td>\n",
       "      <td>501 EAST 171 STREET</td>\n",
       "      <td>...</td>\n",
       "      <td>NaN</td>\n",
       "      <td>NaN</td>\n",
       "      <td>NaN</td>\n",
       "      <td>NaN</td>\n",
       "      <td>NaN</td>\n",
       "      <td>NaN</td>\n",
       "      <td>NaN</td>\n",
       "      <td>40.837503</td>\n",
       "      <td>-73.902905</td>\n",
       "      <td>(40.83750262540012, -73.90290517326568)</td>\n",
       "    </tr>\n",
       "    <tr>\n",
       "      <th>8</th>\n",
       "      <td>32308581</td>\n",
       "      <td>12/31/2015 11:53:58 PM</td>\n",
       "      <td>01/01/2016 08:27:32 AM</td>\n",
       "      <td>NYPD</td>\n",
       "      <td>New York City Police Department</td>\n",
       "      <td>Illegal Parking</td>\n",
       "      <td>Posted Parking Sign Violation</td>\n",
       "      <td>Street/Sidewalk</td>\n",
       "      <td>11415.0</td>\n",
       "      <td>83-44 LEFFERTS BOULEVARD</td>\n",
       "      <td>...</td>\n",
       "      <td>NaN</td>\n",
       "      <td>NaN</td>\n",
       "      <td>NaN</td>\n",
       "      <td>NaN</td>\n",
       "      <td>NaN</td>\n",
       "      <td>NaN</td>\n",
       "      <td>NaN</td>\n",
       "      <td>40.704977</td>\n",
       "      <td>-73.832605</td>\n",
       "      <td>(40.704977164399935, -73.8326047502584)</td>\n",
       "    </tr>\n",
       "    <tr>\n",
       "      <th>9</th>\n",
       "      <td>32308391</td>\n",
       "      <td>12/31/2015 11:53:58 PM</td>\n",
       "      <td>01/01/2016 01:17:40 AM</td>\n",
       "      <td>NYPD</td>\n",
       "      <td>New York City Police Department</td>\n",
       "      <td>Blocked Driveway</td>\n",
       "      <td>No Access</td>\n",
       "      <td>Street/Sidewalk</td>\n",
       "      <td>11219.0</td>\n",
       "      <td>1408 66 STREET</td>\n",
       "      <td>...</td>\n",
       "      <td>NaN</td>\n",
       "      <td>NaN</td>\n",
       "      <td>NaN</td>\n",
       "      <td>NaN</td>\n",
       "      <td>NaN</td>\n",
       "      <td>NaN</td>\n",
       "      <td>NaN</td>\n",
       "      <td>40.623793</td>\n",
       "      <td>-73.999539</td>\n",
       "      <td>(40.623793065806524, -73.99953890121567)</td>\n",
       "    </tr>\n",
       "  </tbody>\n",
       "</table>\n",
       "<p>10 rows × 53 columns</p>\n",
       "</div>"
      ],
      "text/plain": [
       "   Unique Key            Created Date             Closed Date Agency  \\\n",
       "0    32310363  12/31/2015 11:59:45 PM  01/01/2016 12:55:15 AM   NYPD   \n",
       "1    32309934  12/31/2015 11:59:44 PM  01/01/2016 01:26:57 AM   NYPD   \n",
       "2    32309159  12/31/2015 11:59:29 PM  01/01/2016 04:51:03 AM   NYPD   \n",
       "3    32305098  12/31/2015 11:57:46 PM  01/01/2016 07:43:13 AM   NYPD   \n",
       "4    32306529  12/31/2015 11:56:58 PM  01/01/2016 03:24:42 AM   NYPD   \n",
       "5    32306554  12/31/2015 11:56:30 PM  01/01/2016 01:50:11 AM   NYPD   \n",
       "6    32306559  12/31/2015 11:55:32 PM  01/01/2016 01:53:54 AM   NYPD   \n",
       "7    32307009  12/31/2015 11:54:05 PM  01/01/2016 01:42:54 AM   NYPD   \n",
       "8    32308581  12/31/2015 11:53:58 PM  01/01/2016 08:27:32 AM   NYPD   \n",
       "9    32308391  12/31/2015 11:53:58 PM  01/01/2016 01:17:40 AM   NYPD   \n",
       "\n",
       "                       Agency Name           Complaint Type  \\\n",
       "0  New York City Police Department  Noise - Street/Sidewalk   \n",
       "1  New York City Police Department         Blocked Driveway   \n",
       "2  New York City Police Department         Blocked Driveway   \n",
       "3  New York City Police Department          Illegal Parking   \n",
       "4  New York City Police Department          Illegal Parking   \n",
       "5  New York City Police Department          Illegal Parking   \n",
       "6  New York City Police Department          Illegal Parking   \n",
       "7  New York City Police Department         Blocked Driveway   \n",
       "8  New York City Police Department          Illegal Parking   \n",
       "9  New York City Police Department         Blocked Driveway   \n",
       "\n",
       "                      Descriptor    Location Type  Incident Zip  \\\n",
       "0               Loud Music/Party  Street/Sidewalk       10034.0   \n",
       "1                      No Access  Street/Sidewalk       11105.0   \n",
       "2                      No Access  Street/Sidewalk       10458.0   \n",
       "3   Commercial Overnight Parking  Street/Sidewalk       10461.0   \n",
       "4               Blocked Sidewalk  Street/Sidewalk       11373.0   \n",
       "5  Posted Parking Sign Violation  Street/Sidewalk       11215.0   \n",
       "6                Blocked Hydrant  Street/Sidewalk       10032.0   \n",
       "7                      No Access  Street/Sidewalk       10457.0   \n",
       "8  Posted Parking Sign Violation  Street/Sidewalk       11415.0   \n",
       "9                      No Access  Street/Sidewalk       11219.0   \n",
       "\n",
       "           Incident Address  ... Bridge Highway Name Bridge Highway Direction  \\\n",
       "0       71 VERMILYEA AVENUE  ...                 NaN                      NaN   \n",
       "1           27-07 23 AVENUE  ...                 NaN                      NaN   \n",
       "2     2897 VALENTINE AVENUE  ...                 NaN                      NaN   \n",
       "3       2940 BAISLEY AVENUE  ...                 NaN                      NaN   \n",
       "4             87-14 57 ROAD  ...                 NaN                      NaN   \n",
       "5             260 21 STREET  ...                 NaN                      NaN   \n",
       "6       524 WEST 169 STREET  ...                 NaN                      NaN   \n",
       "7       501 EAST 171 STREET  ...                 NaN                      NaN   \n",
       "8  83-44 LEFFERTS BOULEVARD  ...                 NaN                      NaN   \n",
       "9            1408 66 STREET  ...                 NaN                      NaN   \n",
       "\n",
       "  Road Ramp Bridge Highway Segment Garage Lot Name Ferry Direction  \\\n",
       "0       NaN                    NaN             NaN             NaN   \n",
       "1       NaN                    NaN             NaN             NaN   \n",
       "2       NaN                    NaN             NaN             NaN   \n",
       "3       NaN                    NaN             NaN             NaN   \n",
       "4       NaN                    NaN             NaN             NaN   \n",
       "5       NaN                    NaN             NaN             NaN   \n",
       "6       NaN                    NaN             NaN             NaN   \n",
       "7       NaN                    NaN             NaN             NaN   \n",
       "8       NaN                    NaN             NaN             NaN   \n",
       "9       NaN                    NaN             NaN             NaN   \n",
       "\n",
       "  Ferry Terminal Name   Latitude  Longitude  \\\n",
       "0                 NaN  40.865682 -73.923501   \n",
       "1                 NaN  40.775945 -73.915094   \n",
       "2                 NaN  40.870325 -73.888525   \n",
       "3                 NaN  40.835994 -73.828379   \n",
       "4                 NaN  40.733060 -73.874170   \n",
       "5                 NaN  40.660823 -73.992568   \n",
       "6                 NaN  40.840848 -73.937375   \n",
       "7                 NaN  40.837503 -73.902905   \n",
       "8                 NaN  40.704977 -73.832605   \n",
       "9                 NaN  40.623793 -73.999539   \n",
       "\n",
       "                                   Location  \n",
       "0   (40.86568153633767, -73.92350095571744)  \n",
       "1  (40.775945312321085, -73.91509393898605)  \n",
       "2  (40.870324522111424, -73.88852464418646)  \n",
       "3   (40.83599404683083, -73.82837939584206)  \n",
       "4  (40.733059618956815, -73.87416975810375)  \n",
       "5   (40.66082272389114, -73.99256786342693)  \n",
       "6   (40.840847591440415, -73.9373750864581)  \n",
       "7   (40.83750262540012, -73.90290517326568)  \n",
       "8   (40.704977164399935, -73.8326047502584)  \n",
       "9  (40.623793065806524, -73.99953890121567)  \n",
       "\n",
       "[10 rows x 53 columns]"
      ]
     },
     "execution_count": 2,
     "metadata": {},
     "output_type": "execute_result"
    }
   ],
   "source": [
    "data=pd.read_csv('./311_Service_Requests_from_2010_to_Present (1).csv.crdownload')\n",
    "data.head(10)"
   ]
  },
  {
   "cell_type": "markdown",
   "id": "61b7b11a",
   "metadata": {},
   "source": [
    "# 1. Understand the dataset: "
   ]
  },
  {
   "cell_type": "code",
   "execution_count": 3,
   "id": "38152d35",
   "metadata": {},
   "outputs": [
    {
     "name": "stdout",
     "output_type": "stream",
     "text": [
      "<class 'pandas.core.frame.DataFrame'>\n",
      "RangeIndex: 349010 entries, 0 to 349009\n",
      "Data columns (total 53 columns):\n",
      " #   Column                          Non-Null Count   Dtype  \n",
      "---  ------                          --------------   -----  \n",
      " 0   Unique Key                      349010 non-null  int64  \n",
      " 1   Created Date                    349010 non-null  object \n",
      " 2   Closed Date                     346671 non-null  object \n",
      " 3   Agency                          349010 non-null  object \n",
      " 4   Agency Name                     349010 non-null  object \n",
      " 5   Complaint Type                  349010 non-null  object \n",
      " 6   Descriptor                      342669 non-null  object \n",
      " 7   Location Type                   348877 non-null  object \n",
      " 8   Incident Zip                    346097 non-null  float64\n",
      " 9   Incident Address                298957 non-null  object \n",
      " 10  Street Name                     298957 non-null  object \n",
      " 11  Cross Street 1                  293622 non-null  object \n",
      " 12  Cross Street 2                  293030 non-null  object \n",
      " 13  Intersection Street 1           49486 non-null   object \n",
      " 14  Intersection Street 2           48899 non-null   object \n",
      " 15  Address Type                    345853 non-null  object \n",
      " 16  City                            346098 non-null  object \n",
      " 17  Landmark                        372 non-null     object \n",
      " 18  Facility Type                   346663 non-null  object \n",
      " 19  Status                          349010 non-null  object \n",
      " 20  Due Date                        349007 non-null  object \n",
      " 21  Resolution Description          349010 non-null  object \n",
      " 22  Resolution Action Updated Date  346650 non-null  object \n",
      " 23  Community Board                 349010 non-null  object \n",
      " 24  Borough                         349010 non-null  object \n",
      " 25  X Coordinate (State Plane)      345086 non-null  float64\n",
      " 26  Y Coordinate (State Plane)      345086 non-null  float64\n",
      " 27  Park Facility Name              349010 non-null  object \n",
      " 28  Park Borough                    349010 non-null  object \n",
      " 29  School Name                     349010 non-null  object \n",
      " 30  School Number                   349010 non-null  object \n",
      " 31  School Region                   349009 non-null  object \n",
      " 32  School Code                     349009 non-null  object \n",
      " 33  School Phone Number             349010 non-null  object \n",
      " 34  School Address                  349010 non-null  object \n",
      " 35  School City                     349010 non-null  object \n",
      " 36  School State                    349009 non-null  object \n",
      " 37  School Zip                      349008 non-null  object \n",
      " 38  School Not Found                349009 non-null  object \n",
      " 39  School or Citywide Complaint    0 non-null       float64\n",
      " 40  Vehicle Type                    0 non-null       float64\n",
      " 41  Taxi Company Borough            0 non-null       float64\n",
      " 42  Taxi Pick Up Location           0 non-null       float64\n",
      " 43  Bridge Highway Name             287 non-null     object \n",
      " 44  Bridge Highway Direction        287 non-null     object \n",
      " 45  Road Ramp                       252 non-null     object \n",
      " 46  Bridge Highway Segment          252 non-null     object \n",
      " 47  Garage Lot Name                 0 non-null       float64\n",
      " 48  Ferry Direction                 1 non-null       object \n",
      " 49  Ferry Terminal Name             2 non-null       object \n",
      " 50  Latitude                        345085 non-null  float64\n",
      " 51  Longitude                       345085 non-null  float64\n",
      " 52  Location                        345085 non-null  object \n",
      "dtypes: float64(10), int64(1), object(42)\n",
      "memory usage: 141.1+ MB\n"
     ]
    }
   ],
   "source": [
    "data.info()"
   ]
  },
  {
   "cell_type": "code",
   "execution_count": 4,
   "id": "12c3078e",
   "metadata": {},
   "outputs": [
    {
     "data": {
      "text/html": [
       "<div>\n",
       "<style scoped>\n",
       "    .dataframe tbody tr th:only-of-type {\n",
       "        vertical-align: middle;\n",
       "    }\n",
       "\n",
       "    .dataframe tbody tr th {\n",
       "        vertical-align: top;\n",
       "    }\n",
       "\n",
       "    .dataframe thead th {\n",
       "        text-align: right;\n",
       "    }\n",
       "</style>\n",
       "<table border=\"1\" class=\"dataframe\">\n",
       "  <thead>\n",
       "    <tr style=\"text-align: right;\">\n",
       "      <th></th>\n",
       "      <th>Unique Key</th>\n",
       "      <th>Incident Zip</th>\n",
       "      <th>X Coordinate (State Plane)</th>\n",
       "      <th>Y Coordinate (State Plane)</th>\n",
       "      <th>School or Citywide Complaint</th>\n",
       "      <th>Vehicle Type</th>\n",
       "      <th>Taxi Company Borough</th>\n",
       "      <th>Taxi Pick Up Location</th>\n",
       "      <th>Garage Lot Name</th>\n",
       "      <th>Latitude</th>\n",
       "      <th>Longitude</th>\n",
       "    </tr>\n",
       "  </thead>\n",
       "  <tbody>\n",
       "    <tr>\n",
       "      <th>count</th>\n",
       "      <td>3.490100e+05</td>\n",
       "      <td>346097.000000</td>\n",
       "      <td>3.450860e+05</td>\n",
       "      <td>345086.000000</td>\n",
       "      <td>0.0</td>\n",
       "      <td>0.0</td>\n",
       "      <td>0.0</td>\n",
       "      <td>0.0</td>\n",
       "      <td>0.0</td>\n",
       "      <td>345085.000000</td>\n",
       "      <td>345085.000000</td>\n",
       "    </tr>\n",
       "    <tr>\n",
       "      <th>mean</th>\n",
       "      <td>3.112679e+07</td>\n",
       "      <td>10857.017270</td>\n",
       "      <td>1.005036e+06</td>\n",
       "      <td>203497.192877</td>\n",
       "      <td>NaN</td>\n",
       "      <td>NaN</td>\n",
       "      <td>NaN</td>\n",
       "      <td>NaN</td>\n",
       "      <td>NaN</td>\n",
       "      <td>40.725178</td>\n",
       "      <td>-73.924971</td>\n",
       "    </tr>\n",
       "    <tr>\n",
       "      <th>std</th>\n",
       "      <td>6.888669e+05</td>\n",
       "      <td>579.680371</td>\n",
       "      <td>2.193846e+04</td>\n",
       "      <td>29855.423334</td>\n",
       "      <td>NaN</td>\n",
       "      <td>NaN</td>\n",
       "      <td>NaN</td>\n",
       "      <td>NaN</td>\n",
       "      <td>NaN</td>\n",
       "      <td>0.081944</td>\n",
       "      <td>0.079122</td>\n",
       "    </tr>\n",
       "    <tr>\n",
       "      <th>min</th>\n",
       "      <td>2.978258e+07</td>\n",
       "      <td>83.000000</td>\n",
       "      <td>9.133570e+05</td>\n",
       "      <td>121185.000000</td>\n",
       "      <td>NaN</td>\n",
       "      <td>NaN</td>\n",
       "      <td>NaN</td>\n",
       "      <td>NaN</td>\n",
       "      <td>NaN</td>\n",
       "      <td>40.499040</td>\n",
       "      <td>-74.254937</td>\n",
       "    </tr>\n",
       "    <tr>\n",
       "      <th>25%</th>\n",
       "      <td>3.057700e+07</td>\n",
       "      <td>10312.000000</td>\n",
       "      <td>9.919790e+05</td>\n",
       "      <td>183055.250000</td>\n",
       "      <td>NaN</td>\n",
       "      <td>NaN</td>\n",
       "      <td>NaN</td>\n",
       "      <td>NaN</td>\n",
       "      <td>NaN</td>\n",
       "      <td>40.669037</td>\n",
       "      <td>-73.972129</td>\n",
       "    </tr>\n",
       "    <tr>\n",
       "      <th>50%</th>\n",
       "      <td>3.114188e+07</td>\n",
       "      <td>11209.000000</td>\n",
       "      <td>1.003422e+06</td>\n",
       "      <td>201041.000000</td>\n",
       "      <td>NaN</td>\n",
       "      <td>NaN</td>\n",
       "      <td>NaN</td>\n",
       "      <td>NaN</td>\n",
       "      <td>NaN</td>\n",
       "      <td>40.718451</td>\n",
       "      <td>-73.930785</td>\n",
       "    </tr>\n",
       "    <tr>\n",
       "      <th>75%</th>\n",
       "      <td>3.170463e+07</td>\n",
       "      <td>11238.000000</td>\n",
       "      <td>1.019068e+06</td>\n",
       "      <td>222946.000000</td>\n",
       "      <td>NaN</td>\n",
       "      <td>NaN</td>\n",
       "      <td>NaN</td>\n",
       "      <td>NaN</td>\n",
       "      <td>NaN</td>\n",
       "      <td>40.778575</td>\n",
       "      <td>-73.874342</td>\n",
       "    </tr>\n",
       "    <tr>\n",
       "      <th>max</th>\n",
       "      <td>3.231065e+07</td>\n",
       "      <td>11697.000000</td>\n",
       "      <td>1.067186e+06</td>\n",
       "      <td>271876.000000</td>\n",
       "      <td>NaN</td>\n",
       "      <td>NaN</td>\n",
       "      <td>NaN</td>\n",
       "      <td>NaN</td>\n",
       "      <td>NaN</td>\n",
       "      <td>40.912869</td>\n",
       "      <td>-73.700715</td>\n",
       "    </tr>\n",
       "  </tbody>\n",
       "</table>\n",
       "</div>"
      ],
      "text/plain": [
       "         Unique Key   Incident Zip  X Coordinate (State Plane)  \\\n",
       "count  3.490100e+05  346097.000000                3.450860e+05   \n",
       "mean   3.112679e+07   10857.017270                1.005036e+06   \n",
       "std    6.888669e+05     579.680371                2.193846e+04   \n",
       "min    2.978258e+07      83.000000                9.133570e+05   \n",
       "25%    3.057700e+07   10312.000000                9.919790e+05   \n",
       "50%    3.114188e+07   11209.000000                1.003422e+06   \n",
       "75%    3.170463e+07   11238.000000                1.019068e+06   \n",
       "max    3.231065e+07   11697.000000                1.067186e+06   \n",
       "\n",
       "       Y Coordinate (State Plane)  School or Citywide Complaint  Vehicle Type  \\\n",
       "count               345086.000000                           0.0           0.0   \n",
       "mean                203497.192877                           NaN           NaN   \n",
       "std                  29855.423334                           NaN           NaN   \n",
       "min                 121185.000000                           NaN           NaN   \n",
       "25%                 183055.250000                           NaN           NaN   \n",
       "50%                 201041.000000                           NaN           NaN   \n",
       "75%                 222946.000000                           NaN           NaN   \n",
       "max                 271876.000000                           NaN           NaN   \n",
       "\n",
       "       Taxi Company Borough  Taxi Pick Up Location  Garage Lot Name  \\\n",
       "count                   0.0                    0.0              0.0   \n",
       "mean                    NaN                    NaN              NaN   \n",
       "std                     NaN                    NaN              NaN   \n",
       "min                     NaN                    NaN              NaN   \n",
       "25%                     NaN                    NaN              NaN   \n",
       "50%                     NaN                    NaN              NaN   \n",
       "75%                     NaN                    NaN              NaN   \n",
       "max                     NaN                    NaN              NaN   \n",
       "\n",
       "            Latitude      Longitude  \n",
       "count  345085.000000  345085.000000  \n",
       "mean       40.725178     -73.924971  \n",
       "std         0.081944       0.079122  \n",
       "min        40.499040     -74.254937  \n",
       "25%        40.669037     -73.972129  \n",
       "50%        40.718451     -73.930785  \n",
       "75%        40.778575     -73.874342  \n",
       "max        40.912869     -73.700715  "
      ]
     },
     "execution_count": 4,
     "metadata": {},
     "output_type": "execute_result"
    }
   ],
   "source": [
    "data.describe()"
   ]
  },
  {
   "cell_type": "code",
   "execution_count": 5,
   "id": "74415448",
   "metadata": {},
   "outputs": [
    {
     "data": {
      "text/plain": [
       "Unique Key                          0.000000\n",
       "Created Date                        0.000000\n",
       "Closed Date                         0.670181\n",
       "Agency                              0.000000\n",
       "Agency Name                         0.000000\n",
       "Complaint Type                      0.000000\n",
       "Descriptor                          1.816853\n",
       "Location Type                       0.038108\n",
       "Incident Zip                        0.834647\n",
       "Incident Address                   14.341423\n",
       "Street Name                        14.341423\n",
       "Cross Street 1                     15.870032\n",
       "Cross Street 2                     16.039655\n",
       "Intersection Street 1              85.821037\n",
       "Intersection Street 2              85.989227\n",
       "Address Type                        0.904559\n",
       "City                                0.834360\n",
       "Landmark                           99.893413\n",
       "Facility Type                       0.672474\n",
       "Status                              0.000000\n",
       "Due Date                            0.000860\n",
       "Resolution Description              0.000000\n",
       "Resolution Action Updated Date      0.676198\n",
       "Community Board                     0.000000\n",
       "Borough                             0.000000\n",
       "X Coordinate (State Plane)          1.124323\n",
       "Y Coordinate (State Plane)          1.124323\n",
       "Park Facility Name                  0.000000\n",
       "Park Borough                        0.000000\n",
       "School Name                         0.000000\n",
       "School Number                       0.000000\n",
       "School Region                       0.000287\n",
       "School Code                         0.000287\n",
       "School Phone Number                 0.000000\n",
       "School Address                      0.000000\n",
       "School City                         0.000000\n",
       "School State                        0.000287\n",
       "School Zip                          0.000573\n",
       "School Not Found                    0.000287\n",
       "School or Citywide Complaint      100.000000\n",
       "Vehicle Type                      100.000000\n",
       "Taxi Company Borough              100.000000\n",
       "Taxi Pick Up Location             100.000000\n",
       "Bridge Highway Name                99.917767\n",
       "Bridge Highway Direction           99.917767\n",
       "Road Ramp                          99.927796\n",
       "Bridge Highway Segment             99.927796\n",
       "Garage Lot Name                   100.000000\n",
       "Ferry Direction                    99.999713\n",
       "Ferry Terminal Name                99.999427\n",
       "Latitude                            1.124610\n",
       "Longitude                           1.124610\n",
       "Location                            1.124610\n",
       "dtype: float64"
      ]
     },
     "execution_count": 5,
     "metadata": {},
     "output_type": "execute_result"
    }
   ],
   "source": [
    "data.isnull().mean()*100"
   ]
  },
  {
   "cell_type": "code",
   "execution_count": 6,
   "id": "b03e3ef1",
   "metadata": {},
   "outputs": [
    {
     "data": {
      "text/html": [
       "<div>\n",
       "<style scoped>\n",
       "    .dataframe tbody tr th:only-of-type {\n",
       "        vertical-align: middle;\n",
       "    }\n",
       "\n",
       "    .dataframe tbody tr th {\n",
       "        vertical-align: top;\n",
       "    }\n",
       "\n",
       "    .dataframe thead th {\n",
       "        text-align: right;\n",
       "    }\n",
       "</style>\n",
       "<table border=\"1\" class=\"dataframe\">\n",
       "  <thead>\n",
       "    <tr style=\"text-align: right;\">\n",
       "      <th></th>\n",
       "      <th>Unique Key</th>\n",
       "      <th>Created Date</th>\n",
       "      <th>Closed Date</th>\n",
       "      <th>Agency</th>\n",
       "      <th>Agency Name</th>\n",
       "      <th>Complaint Type</th>\n",
       "      <th>Descriptor</th>\n",
       "      <th>Location Type</th>\n",
       "      <th>Incident Zip</th>\n",
       "      <th>Incident Address</th>\n",
       "      <th>...</th>\n",
       "      <th>Bridge Highway Name</th>\n",
       "      <th>Bridge Highway Direction</th>\n",
       "      <th>Road Ramp</th>\n",
       "      <th>Bridge Highway Segment</th>\n",
       "      <th>Garage Lot Name</th>\n",
       "      <th>Ferry Direction</th>\n",
       "      <th>Ferry Terminal Name</th>\n",
       "      <th>Latitude</th>\n",
       "      <th>Longitude</th>\n",
       "      <th>Location</th>\n",
       "    </tr>\n",
       "  </thead>\n",
       "  <tbody>\n",
       "    <tr>\n",
       "      <th>286325</th>\n",
       "      <td>30401006</td>\n",
       "      <td>04/15/2015 10:33:54 AM</td>\n",
       "      <td>04/15/2015 02:47:34 PM</td>\n",
       "      <td>NYPD</td>\n",
       "      <td>New York City Police Department</td>\n",
       "      <td>Animal Abuse</td>\n",
       "      <td>Neglected</td>\n",
       "      <td>Residential Building/House</td>\n",
       "      <td>11355.0</td>\n",
       "      <td>138-04 58 AVENUE</td>\n",
       "      <td>...</td>\n",
       "      <td>NaN</td>\n",
       "      <td>NaN</td>\n",
       "      <td>NaN</td>\n",
       "      <td>NaN</td>\n",
       "      <td>NaN</td>\n",
       "      <td>NaN</td>\n",
       "      <td>NaN</td>\n",
       "      <td>40.745405</td>\n",
       "      <td>-73.827057</td>\n",
       "      <td>(40.745404804206494, -73.82705731595821)</td>\n",
       "    </tr>\n",
       "  </tbody>\n",
       "</table>\n",
       "<p>1 rows × 53 columns</p>\n",
       "</div>"
      ],
      "text/plain": [
       "        Unique Key            Created Date             Closed Date Agency  \\\n",
       "286325    30401006  04/15/2015 10:33:54 AM  04/15/2015 02:47:34 PM   NYPD   \n",
       "\n",
       "                            Agency Name Complaint Type Descriptor  \\\n",
       "286325  New York City Police Department   Animal Abuse  Neglected   \n",
       "\n",
       "                     Location Type  Incident Zip  Incident Address  ...  \\\n",
       "286325  Residential Building/House       11355.0  138-04 58 AVENUE  ...   \n",
       "\n",
       "       Bridge Highway Name Bridge Highway Direction Road Ramp  \\\n",
       "286325                 NaN                      NaN       NaN   \n",
       "\n",
       "       Bridge Highway Segment Garage Lot Name Ferry Direction  \\\n",
       "286325                    NaN             NaN             NaN   \n",
       "\n",
       "       Ferry Terminal Name   Latitude  Longitude  \\\n",
       "286325                 NaN  40.745405 -73.827057   \n",
       "\n",
       "                                        Location  \n",
       "286325  (40.745404804206494, -73.82705731595821)  \n",
       "\n",
       "[1 rows x 53 columns]"
      ]
     },
     "execution_count": 6,
     "metadata": {},
     "output_type": "execute_result"
    }
   ],
   "source": [
    "data.sample()"
   ]
  },
  {
   "cell_type": "code",
   "execution_count": 7,
   "id": "faa8c739",
   "metadata": {},
   "outputs": [
    {
     "data": {
      "text/plain": [
       "(349010, 53)"
      ]
     },
     "execution_count": 7,
     "metadata": {},
     "output_type": "execute_result"
    }
   ],
   "source": [
    "data.shape"
   ]
  },
  {
   "cell_type": "code",
   "execution_count": 8,
   "id": "b7cdb21a",
   "metadata": {},
   "outputs": [
    {
     "data": {
      "text/plain": [
       "0         False\n",
       "1         False\n",
       "2         False\n",
       "3         False\n",
       "4         False\n",
       "          ...  \n",
       "349005    False\n",
       "349006    False\n",
       "349007    False\n",
       "349008    False\n",
       "349009    False\n",
       "Length: 349010, dtype: bool"
      ]
     },
     "execution_count": 8,
     "metadata": {},
     "output_type": "execute_result"
    }
   ],
   "source": [
    "data.duplicated()"
   ]
  },
  {
   "cell_type": "code",
   "execution_count": 9,
   "id": "989b43d2",
   "metadata": {},
   "outputs": [
    {
     "data": {
      "text/plain": [
       "Index(['Unique Key', 'Created Date', 'Closed Date', 'Agency', 'Agency Name',\n",
       "       'Complaint Type', 'Descriptor', 'Location Type', 'Incident Zip',\n",
       "       'Incident Address', 'Street Name', 'Cross Street 1', 'Cross Street 2',\n",
       "       'Intersection Street 1', 'Intersection Street 2', 'Address Type',\n",
       "       'City', 'Landmark', 'Facility Type', 'Status', 'Due Date',\n",
       "       'Resolution Description', 'Resolution Action Updated Date',\n",
       "       'Community Board', 'Borough', 'X Coordinate (State Plane)',\n",
       "       'Y Coordinate (State Plane)', 'Park Facility Name', 'Park Borough',\n",
       "       'School Name', 'School Number', 'School Region', 'School Code',\n",
       "       'School Phone Number', 'School Address', 'School City', 'School State',\n",
       "       'School Zip', 'School Not Found', 'School or Citywide Complaint',\n",
       "       'Vehicle Type', 'Taxi Company Borough', 'Taxi Pick Up Location',\n",
       "       'Bridge Highway Name', 'Bridge Highway Direction', 'Road Ramp',\n",
       "       'Bridge Highway Segment', 'Garage Lot Name', 'Ferry Direction',\n",
       "       'Ferry Terminal Name', 'Latitude', 'Longitude', 'Location'],\n",
       "      dtype='object')"
      ]
     },
     "execution_count": 9,
     "metadata": {},
     "output_type": "execute_result"
    }
   ],
   "source": [
    "data.columns"
   ]
  },
  {
   "cell_type": "markdown",
   "id": "c4f7bbb8",
   "metadata": {},
   "source": [
    "#### REMOVING WHITE SPACES IN COLUMN NAMES"
   ]
  },
  {
   "cell_type": "code",
   "execution_count": 10,
   "id": "30491781",
   "metadata": {},
   "outputs": [
    {
     "data": {
      "text/html": [
       "<div>\n",
       "<style scoped>\n",
       "    .dataframe tbody tr th:only-of-type {\n",
       "        vertical-align: middle;\n",
       "    }\n",
       "\n",
       "    .dataframe tbody tr th {\n",
       "        vertical-align: top;\n",
       "    }\n",
       "\n",
       "    .dataframe thead th {\n",
       "        text-align: right;\n",
       "    }\n",
       "</style>\n",
       "<table border=\"1\" class=\"dataframe\">\n",
       "  <thead>\n",
       "    <tr style=\"text-align: right;\">\n",
       "      <th></th>\n",
       "      <th>UniqueKey</th>\n",
       "      <th>CreatedDate</th>\n",
       "      <th>ClosedDate</th>\n",
       "      <th>Agency</th>\n",
       "      <th>AgencyName</th>\n",
       "      <th>ComplaintType</th>\n",
       "      <th>Descriptor</th>\n",
       "      <th>LocationType</th>\n",
       "      <th>IncidentZip</th>\n",
       "      <th>IncidentAddress</th>\n",
       "      <th>...</th>\n",
       "      <th>BridgeHighwayName</th>\n",
       "      <th>BridgeHighwayDirection</th>\n",
       "      <th>RoadRamp</th>\n",
       "      <th>BridgeHighwaySegment</th>\n",
       "      <th>GarageLotName</th>\n",
       "      <th>FerryDirection</th>\n",
       "      <th>FerryTerminalName</th>\n",
       "      <th>Latitude</th>\n",
       "      <th>Longitude</th>\n",
       "      <th>Location</th>\n",
       "    </tr>\n",
       "  </thead>\n",
       "  <tbody>\n",
       "    <tr>\n",
       "      <th>0</th>\n",
       "      <td>32310363</td>\n",
       "      <td>12/31/2015 11:59:45 PM</td>\n",
       "      <td>01/01/2016 12:55:15 AM</td>\n",
       "      <td>NYPD</td>\n",
       "      <td>New York City Police Department</td>\n",
       "      <td>Noise - Street/Sidewalk</td>\n",
       "      <td>Loud Music/Party</td>\n",
       "      <td>Street/Sidewalk</td>\n",
       "      <td>10034.0</td>\n",
       "      <td>71 VERMILYEA AVENUE</td>\n",
       "      <td>...</td>\n",
       "      <td>NaN</td>\n",
       "      <td>NaN</td>\n",
       "      <td>NaN</td>\n",
       "      <td>NaN</td>\n",
       "      <td>NaN</td>\n",
       "      <td>NaN</td>\n",
       "      <td>NaN</td>\n",
       "      <td>40.865682</td>\n",
       "      <td>-73.923501</td>\n",
       "      <td>(40.86568153633767, -73.92350095571744)</td>\n",
       "    </tr>\n",
       "    <tr>\n",
       "      <th>1</th>\n",
       "      <td>32309934</td>\n",
       "      <td>12/31/2015 11:59:44 PM</td>\n",
       "      <td>01/01/2016 01:26:57 AM</td>\n",
       "      <td>NYPD</td>\n",
       "      <td>New York City Police Department</td>\n",
       "      <td>Blocked Driveway</td>\n",
       "      <td>No Access</td>\n",
       "      <td>Street/Sidewalk</td>\n",
       "      <td>11105.0</td>\n",
       "      <td>27-07 23 AVENUE</td>\n",
       "      <td>...</td>\n",
       "      <td>NaN</td>\n",
       "      <td>NaN</td>\n",
       "      <td>NaN</td>\n",
       "      <td>NaN</td>\n",
       "      <td>NaN</td>\n",
       "      <td>NaN</td>\n",
       "      <td>NaN</td>\n",
       "      <td>40.775945</td>\n",
       "      <td>-73.915094</td>\n",
       "      <td>(40.775945312321085, -73.91509393898605)</td>\n",
       "    </tr>\n",
       "  </tbody>\n",
       "</table>\n",
       "<p>2 rows × 53 columns</p>\n",
       "</div>"
      ],
      "text/plain": [
       "   UniqueKey             CreatedDate              ClosedDate Agency  \\\n",
       "0   32310363  12/31/2015 11:59:45 PM  01/01/2016 12:55:15 AM   NYPD   \n",
       "1   32309934  12/31/2015 11:59:44 PM  01/01/2016 01:26:57 AM   NYPD   \n",
       "\n",
       "                        AgencyName            ComplaintType        Descriptor  \\\n",
       "0  New York City Police Department  Noise - Street/Sidewalk  Loud Music/Party   \n",
       "1  New York City Police Department         Blocked Driveway         No Access   \n",
       "\n",
       "      LocationType  IncidentZip      IncidentAddress  ... BridgeHighwayName  \\\n",
       "0  Street/Sidewalk      10034.0  71 VERMILYEA AVENUE  ...               NaN   \n",
       "1  Street/Sidewalk      11105.0      27-07 23 AVENUE  ...               NaN   \n",
       "\n",
       "  BridgeHighwayDirection RoadRamp BridgeHighwaySegment GarageLotName  \\\n",
       "0                    NaN      NaN                  NaN           NaN   \n",
       "1                    NaN      NaN                  NaN           NaN   \n",
       "\n",
       "  FerryDirection FerryTerminalName   Latitude  Longitude  \\\n",
       "0            NaN               NaN  40.865682 -73.923501   \n",
       "1            NaN               NaN  40.775945 -73.915094   \n",
       "\n",
       "                                   Location  \n",
       "0   (40.86568153633767, -73.92350095571744)  \n",
       "1  (40.775945312321085, -73.91509393898605)  \n",
       "\n",
       "[2 rows x 53 columns]"
      ]
     },
     "execution_count": 10,
     "metadata": {},
     "output_type": "execute_result"
    }
   ],
   "source": [
    "data.columns=data.columns.str.replace(' ','')\n",
    "data.head(2)"
   ]
  },
  {
   "cell_type": "markdown",
   "id": "3a1d3c16",
   "metadata": {},
   "source": [
    "# Perform basic data exploratory analysis"
   ]
  },
  {
   "cell_type": "markdown",
   "id": "ba33984e",
   "metadata": {},
   "source": [
    "<b>Null Value plot"
   ]
  },
  {
   "cell_type": "code",
   "execution_count": 11,
   "id": "44608a1a",
   "metadata": {},
   "outputs": [
    {
     "data": {
      "image/png": "[encoded data removed]",
      "text/plain": [
       "<Figure size 1000x700 with 1 Axes>"
      ]
     },
     "metadata": {},
     "output_type": "display_data"
    }
   ],
   "source": [
    "plt.figure(figsize=(10,7))\n",
    "data.isnull().sum().plot.barh()\n",
    "plt.show()"
   ]
  },
  {
   "cell_type": "markdown",
   "id": "d6ba4d6e",
   "metadata": {},
   "source": [
    "###  2.2 Missing value treatment 2.2.1 Remove the records whose Closed Date values are null"
   ]
  },
  {
   "cell_type": "code",
   "execution_count": 12,
   "id": "d634ee89",
   "metadata": {},
   "outputs": [
    {
     "data": {
      "text/plain": [
       "2339"
      ]
     },
     "execution_count": 12,
     "metadata": {},
     "output_type": "execute_result"
    }
   ],
   "source": [
    "data.ClosedDate.isnull().sum()"
   ]
  },
  {
   "cell_type": "code",
   "execution_count": 13,
   "id": "0719de25",
   "metadata": {},
   "outputs": [
    {
     "data": {
      "text/html": [
       "<div>\n",
       "<style scoped>\n",
       "    .dataframe tbody tr th:only-of-type {\n",
       "        vertical-align: middle;\n",
       "    }\n",
       "\n",
       "    .dataframe tbody tr th {\n",
       "        vertical-align: top;\n",
       "    }\n",
       "\n",
       "    .dataframe thead th {\n",
       "        text-align: right;\n",
       "    }\n",
       "</style>\n",
       "<table border=\"1\" class=\"dataframe\">\n",
       "  <thead>\n",
       "    <tr style=\"text-align: right;\">\n",
       "      <th></th>\n",
       "      <th>UniqueKey</th>\n",
       "      <th>CreatedDate</th>\n",
       "      <th>ClosedDate</th>\n",
       "      <th>Agency</th>\n",
       "      <th>AgencyName</th>\n",
       "      <th>ComplaintType</th>\n",
       "      <th>Descriptor</th>\n",
       "      <th>LocationType</th>\n",
       "      <th>IncidentZip</th>\n",
       "      <th>IncidentAddress</th>\n",
       "      <th>...</th>\n",
       "      <th>BridgeHighwayName</th>\n",
       "      <th>BridgeHighwayDirection</th>\n",
       "      <th>RoadRamp</th>\n",
       "      <th>BridgeHighwaySegment</th>\n",
       "      <th>GarageLotName</th>\n",
       "      <th>FerryDirection</th>\n",
       "      <th>FerryTerminalName</th>\n",
       "      <th>Latitude</th>\n",
       "      <th>Longitude</th>\n",
       "      <th>Location</th>\n",
       "    </tr>\n",
       "  </thead>\n",
       "  <tbody>\n",
       "    <tr>\n",
       "      <th>0</th>\n",
       "      <td>32310363</td>\n",
       "      <td>12/31/2015 11:59:45 PM</td>\n",
       "      <td>01/01/2016 12:55:15 AM</td>\n",
       "      <td>NYPD</td>\n",
       "      <td>New York City Police Department</td>\n",
       "      <td>Noise - Street/Sidewalk</td>\n",
       "      <td>Loud Music/Party</td>\n",
       "      <td>Street/Sidewalk</td>\n",
       "      <td>10034.0</td>\n",
       "      <td>71 VERMILYEA AVENUE</td>\n",
       "      <td>...</td>\n",
       "      <td>NaN</td>\n",
       "      <td>NaN</td>\n",
       "      <td>NaN</td>\n",
       "      <td>NaN</td>\n",
       "      <td>NaN</td>\n",
       "      <td>NaN</td>\n",
       "      <td>NaN</td>\n",
       "      <td>40.865682</td>\n",
       "      <td>-73.923501</td>\n",
       "      <td>(40.86568153633767, -73.92350095571744)</td>\n",
       "    </tr>\n",
       "    <tr>\n",
       "      <th>1</th>\n",
       "      <td>32309934</td>\n",
       "      <td>12/31/2015 11:59:44 PM</td>\n",
       "      <td>01/01/2016 01:26:57 AM</td>\n",
       "      <td>NYPD</td>\n",
       "      <td>New York City Police Department</td>\n",
       "      <td>Blocked Driveway</td>\n",
       "      <td>No Access</td>\n",
       "      <td>Street/Sidewalk</td>\n",
       "      <td>11105.0</td>\n",
       "      <td>27-07 23 AVENUE</td>\n",
       "      <td>...</td>\n",
       "      <td>NaN</td>\n",
       "      <td>NaN</td>\n",
       "      <td>NaN</td>\n",
       "      <td>NaN</td>\n",
       "      <td>NaN</td>\n",
       "      <td>NaN</td>\n",
       "      <td>NaN</td>\n",
       "      <td>40.775945</td>\n",
       "      <td>-73.915094</td>\n",
       "      <td>(40.775945312321085, -73.91509393898605)</td>\n",
       "    </tr>\n",
       "    <tr>\n",
       "      <th>2</th>\n",
       "      <td>32309159</td>\n",
       "      <td>12/31/2015 11:59:29 PM</td>\n",
       "      <td>01/01/2016 04:51:03 AM</td>\n",
       "      <td>NYPD</td>\n",
       "      <td>New York City Police Department</td>\n",
       "      <td>Blocked Driveway</td>\n",
       "      <td>No Access</td>\n",
       "      <td>Street/Sidewalk</td>\n",
       "      <td>10458.0</td>\n",
       "      <td>2897 VALENTINE AVENUE</td>\n",
       "      <td>...</td>\n",
       "      <td>NaN</td>\n",
       "      <td>NaN</td>\n",
       "      <td>NaN</td>\n",
       "      <td>NaN</td>\n",
       "      <td>NaN</td>\n",
       "      <td>NaN</td>\n",
       "      <td>NaN</td>\n",
       "      <td>40.870325</td>\n",
       "      <td>-73.888525</td>\n",
       "      <td>(40.870324522111424, -73.88852464418646)</td>\n",
       "    </tr>\n",
       "    <tr>\n",
       "      <th>3</th>\n",
       "      <td>32305098</td>\n",
       "      <td>12/31/2015 11:57:46 PM</td>\n",
       "      <td>01/01/2016 07:43:13 AM</td>\n",
       "      <td>NYPD</td>\n",
       "      <td>New York City Police Department</td>\n",
       "      <td>Illegal Parking</td>\n",
       "      <td>Commercial Overnight Parking</td>\n",
       "      <td>Street/Sidewalk</td>\n",
       "      <td>10461.0</td>\n",
       "      <td>2940 BAISLEY AVENUE</td>\n",
       "      <td>...</td>\n",
       "      <td>NaN</td>\n",
       "      <td>NaN</td>\n",
       "      <td>NaN</td>\n",
       "      <td>NaN</td>\n",
       "      <td>NaN</td>\n",
       "      <td>NaN</td>\n",
       "      <td>NaN</td>\n",
       "      <td>40.835994</td>\n",
       "      <td>-73.828379</td>\n",
       "      <td>(40.83599404683083, -73.82837939584206)</td>\n",
       "    </tr>\n",
       "    <tr>\n",
       "      <th>4</th>\n",
       "      <td>32306529</td>\n",
       "      <td>12/31/2015 11:56:58 PM</td>\n",
       "      <td>01/01/2016 03:24:42 AM</td>\n",
       "      <td>NYPD</td>\n",
       "      <td>New York City Police Department</td>\n",
       "      <td>Illegal Parking</td>\n",
       "      <td>Blocked Sidewalk</td>\n",
       "      <td>Street/Sidewalk</td>\n",
       "      <td>11373.0</td>\n",
       "      <td>87-14 57 ROAD</td>\n",
       "      <td>...</td>\n",
       "      <td>NaN</td>\n",
       "      <td>NaN</td>\n",
       "      <td>NaN</td>\n",
       "      <td>NaN</td>\n",
       "      <td>NaN</td>\n",
       "      <td>NaN</td>\n",
       "      <td>NaN</td>\n",
       "      <td>40.733060</td>\n",
       "      <td>-73.874170</td>\n",
       "      <td>(40.733059618956815, -73.87416975810375)</td>\n",
       "    </tr>\n",
       "  </tbody>\n",
       "</table>\n",
       "<p>5 rows × 53 columns</p>\n",
       "</div>"
      ],
      "text/plain": [
       "   UniqueKey             CreatedDate              ClosedDate Agency  \\\n",
       "0   32310363  12/31/2015 11:59:45 PM  01/01/2016 12:55:15 AM   NYPD   \n",
       "1   32309934  12/31/2015 11:59:44 PM  01/01/2016 01:26:57 AM   NYPD   \n",
       "2   32309159  12/31/2015 11:59:29 PM  01/01/2016 04:51:03 AM   NYPD   \n",
       "3   32305098  12/31/2015 11:57:46 PM  01/01/2016 07:43:13 AM   NYPD   \n",
       "4   32306529  12/31/2015 11:56:58 PM  01/01/2016 03:24:42 AM   NYPD   \n",
       "\n",
       "                        AgencyName            ComplaintType  \\\n",
       "0  New York City Police Department  Noise - Street/Sidewalk   \n",
       "1  New York City Police Department         Blocked Driveway   \n",
       "2  New York City Police Department         Blocked Driveway   \n",
       "3  New York City Police Department          Illegal Parking   \n",
       "4  New York City Police Department          Illegal Parking   \n",
       "\n",
       "                     Descriptor     LocationType  IncidentZip  \\\n",
       "0              Loud Music/Party  Street/Sidewalk      10034.0   \n",
       "1                     No Access  Street/Sidewalk      11105.0   \n",
       "2                     No Access  Street/Sidewalk      10458.0   \n",
       "3  Commercial Overnight Parking  Street/Sidewalk      10461.0   \n",
       "4              Blocked Sidewalk  Street/Sidewalk      11373.0   \n",
       "\n",
       "         IncidentAddress  ... BridgeHighwayName BridgeHighwayDirection  \\\n",
       "0    71 VERMILYEA AVENUE  ...               NaN                    NaN   \n",
       "1        27-07 23 AVENUE  ...               NaN                    NaN   \n",
       "2  2897 VALENTINE AVENUE  ...               NaN                    NaN   \n",
       "3    2940 BAISLEY AVENUE  ...               NaN                    NaN   \n",
       "4          87-14 57 ROAD  ...               NaN                    NaN   \n",
       "\n",
       "  RoadRamp BridgeHighwaySegment GarageLotName FerryDirection  \\\n",
       "0      NaN                  NaN           NaN            NaN   \n",
       "1      NaN                  NaN           NaN            NaN   \n",
       "2      NaN                  NaN           NaN            NaN   \n",
       "3      NaN                  NaN           NaN            NaN   \n",
       "4      NaN                  NaN           NaN            NaN   \n",
       "\n",
       "  FerryTerminalName   Latitude  Longitude  \\\n",
       "0               NaN  40.865682 -73.923501   \n",
       "1               NaN  40.775945 -73.915094   \n",
       "2               NaN  40.870325 -73.888525   \n",
       "3               NaN  40.835994 -73.828379   \n",
       "4               NaN  40.733060 -73.874170   \n",
       "\n",
       "                                   Location  \n",
       "0   (40.86568153633767, -73.92350095571744)  \n",
       "1  (40.775945312321085, -73.91509393898605)  \n",
       "2  (40.870324522111424, -73.88852464418646)  \n",
       "3   (40.83599404683083, -73.82837939584206)  \n",
       "4  (40.733059618956815, -73.87416975810375)  \n",
       "\n",
       "[5 rows x 53 columns]"
      ]
     },
     "execution_count": 13,
     "metadata": {},
     "output_type": "execute_result"
    }
   ],
   "source": [
    "data.dropna(subset=['ClosedDate'],inplace= True)\n",
    "data.head()"
   ]
  },
  {
   "cell_type": "code",
   "execution_count": 14,
   "id": "f3b1b723",
   "metadata": {},
   "outputs": [
    {
     "data": {
      "text/plain": [
       "0"
      ]
     },
     "execution_count": 14,
     "metadata": {},
     "output_type": "execute_result"
    }
   ],
   "source": [
    "data.ClosedDate.isnull().sum()"
   ]
  },
  {
   "cell_type": "markdown",
   "id": "c02fe45f",
   "metadata": {},
   "source": [
    "<b> 2.3 Analyze the date column, and remove entries that have an\n",
    "incorrect timeline"
   ]
  },
  {
   "cell_type": "code",
   "execution_count": null,
   "id": "76151ac0",
   "metadata": {},
   "outputs": [],
   "source": [
    "data['CreatedDate']=pd.to_datetime(data['CreatedDate'],errors='ignore')"
   ]
  },
  {
   "cell_type": "code",
   "execution_count": null,
   "id": "517f7a02",
   "metadata": {},
   "outputs": [],
   "source": [
    "data['ClosedDate']=pd.to_datetime(data['ClosedDate'],errors='ignore')"
   ]
  },
  {
   "cell_type": "markdown",
   "id": "7d1092e8",
   "metadata": {},
   "source": [
    "<B> 2.3.1 Calculate the time elapsed in closed and creation date"
   ]
  },
  {
   "cell_type": "code",
   "execution_count": null,
   "id": "23a2010a",
   "metadata": {},
   "outputs": [],
   "source": [
    "data['ElapsedTime']=data['CreatedDate']-data['ClosedDate']"
   ]
  },
  {
   "cell_type": "code",
   "execution_count": null,
   "id": "f8ed4e25",
   "metadata": {},
   "outputs": [],
   "source": [
    "data['time_in_second']=data[\"ElapsedTime\"].dt.seconds\n",
    "data.head()"
   ]
  },
  {
   "cell_type": "markdown",
   "id": "334b3af9",
   "metadata": {},
   "source": [
    "<b>2.3.2 Convert the calculated date to seconds to get a better\n",
    "representation"
   ]
  },
  {
   "cell_type": "code",
   "execution_count": null,
   "id": "9df738a6",
   "metadata": {},
   "outputs": [],
   "source": [
    "data['second']=data.ElapsedTime.dt.seconds\n",
    "data.head()"
   ]
  },
  {
   "cell_type": "markdown",
   "id": "ca9c1cad",
   "metadata": {},
   "source": [
    "<b>2.3.3 View the descriptive statistics for the newly created\n",
    "column"
   ]
  },
  {
   "cell_type": "code",
   "execution_count": null,
   "id": "d109cf57",
   "metadata": {},
   "outputs": [],
   "source": [
    "data.second.describe()"
   ]
  },
  {
   "cell_type": "markdown",
   "id": "2acd987c",
   "metadata": {},
   "source": [
    "<b>2.3.4 Check the number of null values in the Complaint_Type and City columns"
   ]
  },
  {
   "cell_type": "code",
   "execution_count": null,
   "id": "eb5775c5",
   "metadata": {},
   "outputs": [],
   "source": [
    "data.ComplaintType.isnull().sum()"
   ]
  },
  {
   "cell_type": "code",
   "execution_count": null,
   "id": "50b48a99",
   "metadata": {},
   "outputs": [],
   "source": [
    "data.City.isnull().sum()"
   ]
  },
  {
   "cell_type": "markdown",
   "id": "c79c1db7",
   "metadata": {},
   "source": [
    "<b>2.3.5 Impute the NA value with Unknown City"
   ]
  },
  {
   "cell_type": "code",
   "execution_count": null,
   "id": "d6bbfab5",
   "metadata": {},
   "outputs": [],
   "source": [
    "data.City.replace(np.nan,'unknown city',inplace=True)"
   ]
  },
  {
   "cell_type": "markdown",
   "id": "d205b46c",
   "metadata": {},
   "source": [
    "<b>Parse date"
   ]
  },
  {
   "cell_type": "code",
   "execution_count": null,
   "id": "a594ef57",
   "metadata": {},
   "outputs": [],
   "source": [
    "data['CreatedDate']=pd.to_datetime(data['CreatedDate'],errors='ignore')"
   ]
  },
  {
   "cell_type": "code",
   "execution_count": null,
   "id": "69046107",
   "metadata": {},
   "outputs": [],
   "source": [
    "data['ClosedDate']=pd.to_datetime(data['ClosedDate'],errors='ignore')"
   ]
  },
  {
   "cell_type": "code",
   "execution_count": null,
   "id": "f573d974",
   "metadata": {},
   "outputs": [],
   "source": [
    "data['DueDate']=pd.to_datetime(data['DueDate'],errors='ignore')"
   ]
  },
  {
   "cell_type": "code",
   "execution_count": null,
   "id": "d8892e94",
   "metadata": {},
   "outputs": [],
   "source": [
    "data['ResolutionActionUpdatedDate']=pd.to_datetime(data['ResolutionActionUpdatedDate'],errors='ignore')"
   ]
  },
  {
   "cell_type": "code",
   "execution_count": null,
   "id": "54032334",
   "metadata": {},
   "outputs": [],
   "source": [
    "data.head()"
   ]
  },
  {
   "cell_type": "code",
   "execution_count": null,
   "id": "b4f80af3",
   "metadata": {
    "scrolled": true
   },
   "outputs": [],
   "source": [
    "data.City.isnull().sum()"
   ]
  },
  {
   "cell_type": "code",
   "execution_count": null,
   "id": "729b0dd0",
   "metadata": {},
   "outputs": [],
   "source": [
    "data.City.unique()"
   ]
  },
  {
   "cell_type": "markdown",
   "id": "6f74b1df",
   "metadata": {},
   "source": [
    "<b> 2.3.6 Draw a frequency plot for the complaints in each city"
   ]
  },
  {
   "cell_type": "code",
   "execution_count": null,
   "id": "a5eed934",
   "metadata": {},
   "outputs": [],
   "source": [
    "pd.crosstab(data.ComplaintType,data.City).plot.bar()\n",
    "plt.legend(bbox_to_anchor=(1,1))\n",
    "plt.show()"
   ]
  },
  {
   "cell_type": "code",
   "execution_count": null,
   "id": "941f782a",
   "metadata": {
    "scrolled": true
   },
   "outputs": [],
   "source": [
    "data.groupby(['City','ComplaintType']).count()"
   ]
  },
  {
   "cell_type": "code",
   "execution_count": null,
   "id": "ffa3d92b",
   "metadata": {},
   "outputs": [],
   "source": [
    "data.ComplaintType.count()"
   ]
  },
  {
   "cell_type": "code",
   "execution_count": null,
   "id": "1171b7c8",
   "metadata": {},
   "outputs": [],
   "source": [
    "data.City.count()"
   ]
  },
  {
   "cell_type": "code",
   "execution_count": null,
   "id": "c09f5fca",
   "metadata": {},
   "outputs": [],
   "source": [
    "data.ComplaintType.unique()"
   ]
  },
  {
   "cell_type": "markdown",
   "id": "0fd57848",
   "metadata": {},
   "source": [
    "<b>2.3.7 Create a scatter and hexbin plot of the concentration of\n",
    "complaints across Brooklyn"
   ]
  },
  {
   "cell_type": "code",
   "execution_count": null,
   "id": "74d59a13",
   "metadata": {},
   "outputs": [],
   "source": [
    "data.City"
   ]
  },
  {
   "cell_type": "code",
   "execution_count": null,
   "id": "c707f90a",
   "metadata": {},
   "outputs": [],
   "source": [
    "Brooklyn=data.query(\"City=='Brooklyn'\")\n",
    "    "
   ]
  },
  {
   "cell_type": "code",
   "execution_count": null,
   "id": "6e4246eb",
   "metadata": {},
   "outputs": [],
   "source": [
    "Brooklyn"
   ]
  },
  {
   "cell_type": "code",
   "execution_count": null,
   "id": "caed0a7f",
   "metadata": {},
   "outputs": [],
   "source": [
    "sns.scatterplot( data = Brooklyn, x = 'Latitude',y = 'Longitude',alpha=1 )\n",
    "plt.show()"
   ]
  },
  {
   "cell_type": "code",
   "execution_count": null,
   "id": "6b3ad6ff",
   "metadata": {},
   "outputs": [],
   "source": [
    "data[['Longitude', 'Latitude']].plot(kind = 'hexbin', x='Longitude', y='Latitude', gridsize=40,\n",
    "    colormap = 'jet', mincnt=1, title = 'Complaints Concentration in Brooklyn', figsize = (9, 4));"
   ]
  },
  {
   "cell_type": "markdown",
   "id": "4fadef6c",
   "metadata": {},
   "source": [
    "## 3. Find major types of complaints: "
   ]
  },
  {
   "cell_type": "markdown",
   "id": "f86f45dc",
   "metadata": {},
   "source": [
    "<b>3.1 Plot a bar graph to show the types of complaints"
   ]
  },
  {
   "cell_type": "code",
   "execution_count": null,
   "id": "d0f5808b",
   "metadata": {},
   "outputs": [],
   "source": [
    "def to_title(city):\n",
    "    try:\n",
    "        city = city.title()\n",
    "        return city\n",
    "    except:\n",
    "        return np.nan\n",
    "\n",
    "data['City'] = data['City'].apply(to_title)\n",
    "data['City'].value_counts()"
   ]
  },
  {
   "cell_type": "code",
   "execution_count": null,
   "id": "e301a386",
   "metadata": {},
   "outputs": [],
   "source": [
    "data['ComplaintType'].value_counts()"
   ]
  },
  {
   "cell_type": "code",
   "execution_count": null,
   "id": "c290574e",
   "metadata": {},
   "outputs": [],
   "source": [
    "data.groupby(['City', 'ComplaintType']).size()"
   ]
  },
  {
   "cell_type": "code",
   "execution_count": null,
   "id": "fc997d83",
   "metadata": {},
   "outputs": [],
   "source": [
    "data['ComplaintType'].value_counts().plot(kind = 'bar', title = 'Overall ComplaintType Frequency');"
   ]
  },
  {
   "cell_type": "markdown",
   "id": "c06f7a25",
   "metadata": {},
   "source": [
    "<b>3.2 Check the frequency of various types of complaints for New\n",
    "York City"
   ]
  },
  {
   "cell_type": "code",
   "execution_count": null,
   "id": "653f8f16",
   "metadata": {},
   "outputs": [],
   "source": [
    "nyc_data = data[data['City'] == 'NEW YORK']\n",
    "\n",
    "complaints_by_type_nyc = nyc_data['ComplaintType'].value_counts()\n",
    "\n",
    "print(complaints_by_type_nyc)\n"
   ]
  },
  {
   "cell_type": "markdown",
   "id": "a50ba105",
   "metadata": {},
   "source": [
    "<b>3.3 Find the top 10 complaint types"
   ]
  },
  {
   "cell_type": "code",
   "execution_count": null,
   "id": "a35cc163",
   "metadata": {
    "scrolled": true
   },
   "outputs": [],
   "source": [
    "complaint_types_freq = data['ComplaintType'].value_counts()\n",
    "\n",
    "top_10_complaint_types = complaint_types_freq.head(10)\n",
    "\n",
    "print(top_10_complaint_types)\n"
   ]
  },
  {
   "cell_type": "markdown",
   "id": "4371c550",
   "metadata": {},
   "source": [
    "<b>3.4 Display the various types of complaints in each city"
   ]
  },
  {
   "cell_type": "code",
   "execution_count": null,
   "id": "ae21ad5d",
   "metadata": {},
   "outputs": [],
   "source": [
    "complaints_by_city_and_type = data.groupby(['City', 'ComplaintType']).size()\n",
    "\n",
    "complaints_by_city_and_type = complaints_by_city_and_type.reset_index(name='Count')\n",
    "\n",
    "print(complaints_by_city_and_type)\n"
   ]
  },
  {
   "cell_type": "markdown",
   "id": "a11aca90",
   "metadata": {},
   "source": [
    "<b>3.5 Create a DataFrame, df_new, which contains cities as\n",
    "columns and complaint types in rows"
   ]
  },
  {
   "cell_type": "code",
   "execution_count": null,
   "id": "d9d3fd98",
   "metadata": {},
   "outputs": [],
   "source": [
    "data_new = data.pivot_table(index='ComplaintType', columns='City', aggfunc='size', fill_value=0)\n",
    "\n",
    "print(data_new)"
   ]
  },
  {
   "cell_type": "markdown",
   "id": "12c98ca2",
   "metadata": {},
   "source": [
    "<b> 4. Visualize the major types of complaints in each city"
   ]
  },
  {
   "cell_type": "markdown",
   "id": "a1e1b43a",
   "metadata": {},
   "source": [
    "<B>4.1 Draw another chart that shows the types of complaints in\n",
    "each city in a single chart, where different colors show the\n",
    "different types of complaints"
   ]
  },
  {
   "cell_type": "code",
   "execution_count": null,
   "id": "e2b70943",
   "metadata": {},
   "outputs": [],
   "source": [
    "complaints_by_city_and_type = data.groupby(['City', 'ComplaintType']).size().unstack(fill_value=0)\n",
    "complaints_by_city_and_type.plot.bar()"
   ]
  },
  {
   "cell_type": "markdown",
   "id": "b7e97ea6",
   "metadata": {},
   "source": [
    "<b>4.2 Sort the complaint types based on the average\n",
    "Request_Closing_Time grouping them for different\n",
    "locations"
   ]
  },
  {
   "cell_type": "code",
   "execution_count": null,
   "id": "0d9e41c3",
   "metadata": {},
   "outputs": [],
   "source": [
    "data['CreatedDate'] = pd.to_datetime(data['CreatedDate'])\n",
    "data['ClosedDate'] = pd.to_datetime(data['ClosedDate'])\n",
    "\n",
    "data['Request_Closing_Time'] = (data['ClosedDate'] - data['CreatedDate']).dt.total_seconds() / 3600  \n",
    "\n",
    "complaints_by_type_and_location = data.groupby(['ComplaintType', 'City'])['Request_Closing_Time'].mean().reset_index()\n",
    "\n",
    "sorted_complaints = complaints_by_type_and_location.sort_values(by='Request_Closing_Time')\n",
    "\n",
    "print(sorted_complaints)\n"
   ]
  },
  {
   "cell_type": "markdown",
   "id": "7e3f6061",
   "metadata": {},
   "source": [
    "<b>5. See whether the average response time across different\n",
    "complaint types is similar (overall)\n",
    "\n"
   ]
  },
  {
   "cell_type": "code",
   "execution_count": null,
   "id": "ccc74f13",
   "metadata": {},
   "outputs": [],
   "source": [
    "data['Request_Closing_Time'] = (data['ClosedDate'] - data['CreatedDate']).dt.total_seconds() / 3600  # in hours\n",
    "\n",
    "overall_average_response_time = data['Request_Closing_Time'].mean()\n",
    "\n",
    "average_response_time_by_complaint = data.groupby('ComplaintType')['Request_Closing_Time'].mean()\n",
    "\n",
    "print(\"Overall Average Response Time: {:.2f} hours\".format(overall_average_response_time))\n",
    "print(\"\\nAverage Response Time by Complaint Type:\")\n",
    "print(average_response_time_by_complaint)"
   ]
  },
  {
   "cell_type": "markdown",
   "id": "4872d340",
   "metadata": {},
   "source": [
    "<b> 5.1 Visualize the average of Request_Closing_Time"
   ]
  },
  {
   "cell_type": "code",
   "execution_count": null,
   "id": "ac25eb05",
   "metadata": {},
   "outputs": [],
   "source": [
    "data['CreatedDate'] = pd.to_datetime(data['CreatedDate'])\n",
    "data['ClosedDate'] = pd.to_datetime(data['ClosedDate'])\n",
    "\n",
    "data['Request_Closing_Time'] = (data['ClosedDate'] - data['CreatedDate']).dt.total_seconds() / 3600  # in hours\n",
    "\n",
    "overall_average_response_time = data['Request_Closing_Time'].mean()\n",
    "\n",
    "average_response_time_by_complaint = data.groupby('ComplaintType')['Request_Closing_Time'].mean().reset_index()\n",
    "\n",
    "plt.figure(figsize=(12, 6))\n",
    "plt.bar(average_response_time_by_complaint['ComplaintType'], average_response_time_by_complaint['Request_Closing_Time'], color='skyblue')\n",
    "plt.axhline(y=overall_average_response_time, color='red', linestyle='--', label='Overall Average')\n",
    "plt.xlabel('ComplaintType')\n",
    "plt.ylabel('Average Request Closing Time (hours)')\n",
    "plt.title('Average Request Closing Time by Complaint Type')\n",
    "plt.xticks(rotation=90)\n",
    "plt.legend()\n",
    "plt.tight_layout()\n",
    "plt.show()"
   ]
  },
  {
   "cell_type": "markdown",
   "id": "7d7d8585",
   "metadata": {},
   "source": [
    "<b>6. Identify the significant variables by performing statistical\n",
    "analysis using p-values\n"
   ]
  },
  {
   "cell_type": "markdown",
   "id": "057e18ed",
   "metadata": {},
   "source": [
    "<b>To identify significant variables through statistical analysis using p-values, we can perform a statistical test such as the Analysis of Variance (ANOVA) or t-test, depending on the type of data and the specific analysis you are interested in. The p-value will help determine whether the variation observed in a specific variable is statistically significant or just due to random chance. This test is suitable when you have multiple groups (e.g., complaint types) and want to assess whether there are statistically significant differences in a continuous variable (e.g., Request_Closing_Time) across those groups.\n",
    "\n",
    "<b>Assumptions for ANOVA:\n",
    "\n",
    "<b>The samples are independent. The data is approximately normally distributed within each group. Homogeneity of variances (equal variance) among the groups."
   ]
  },
  {
   "cell_type": "code",
   "execution_count": null,
   "id": "37b342e5",
   "metadata": {},
   "outputs": [],
   "source": [
    "import scipy.stats as stats\n",
    "\n",
    "data['Request_Closing_Time'] = (data['ClosedDate'] - data['CreatedDate']).dt.total_seconds() / 3600  # in hours\n",
    "\n",
    "# Perform one-way ANOVA to identify significant variables\n",
    "# Here, 'Complaint Type' is the categorical variable and 'Request_Closing_Time' is the continuous variable\n",
    "anova_result = stats.f_oneway(*[group['Request_Closing_Time'] for name, group in data.groupby('ComplaintType')])\n",
    "\n",
    "# Get the p-value from the ANOVA result\n",
    "p_value = anova_result.pvalue\n",
    "\n",
    "# Print the p-value\n",
    "print(\"P-value:\", p_value)\n",
    "\n",
    "# Check if the p-value is significant (typically < 0.05)\n",
    "if p_value < 0.05:\n",
    "    print(\"There is a statistically significant difference among the complaint types.\")\n",
    "else:\n",
    "    print(\"There is no statistically significant difference among the complaint types.\")\n"
   ]
  },
  {
   "cell_type": "markdown",
   "id": "12365608",
   "metadata": {},
   "source": [
    "###### 7. Perform a Kruskal-WallisH test¶"
   ]
  },
  {
   "cell_type": "markdown",
   "id": "6680dde7",
   "metadata": {},
   "source": [
    "<B> If the assumptions for performing the one-way ANOVA are not met (i.e., the \n",
    "data is not normally distributed or the variance is not equal among the groups), the Kruskal-Wallis test can be used as a non-parametric alternative. The Kruskal-Wallis test is suitable for analyzing continuous variables across multiple groups\n",
    "(complaint types) when the data is non-normally distributed."
   ]
  },
  {
   "cell_type": "code",
   "execution_count": null,
   "id": "f9e4ea44",
   "metadata": {},
   "outputs": [],
   "source": [
    "# Perform Kruskal-Wallis test to identify significant variables\n",
    "# Here, 'Complaint Type' is the categorical variable and 'Request_Closing_Time' is the continuous variable\n",
    "kw_result = stats.kruskal(*[group['Request_Closing_Time'] for name, group in data.groupby('ComplaintType')])\n",
    "\n",
    "# Get the p-value from the Kruskal-Wallis test result\n",
    "p_value = kw_result.pvalue\n",
    "\n",
    "# Print the p-value\n",
    "print(\"P-value:\", p_value)\n",
    "\n",
    "# Check if the p-value is significant (typically < 0.05)\n",
    "if p_value < 0.05:\n",
    "    print(\"There is a statistically significant difference among the complaint types.\")\n",
    "else:\n",
    "    print(\"There is no statistically significant difference among the complaint types.\")"
   ]
  },
  {
   "cell_type": "markdown",
   "id": "61dad9b1",
   "metadata": {},
   "source": [
    "<b>7. Perform a Kruskal-Wallis H test\n",
    "    \n",
    "<B>7.1 Fail to reject H0: All sample distributions are equal"
   ]
  },
  {
   "cell_type": "markdown",
   "id": "bea94531",
   "metadata": {},
   "source": [
    "if the p-value obtained from the Kruskal-Wallis test (or any statistical test) is greater than or equal to the chosen significance level (e.g., 0.05), we fail to reject the null hypothesis (H0). In this context, the null hypothesis states that the sample distributions (in this case, the Request_Closing_Time for each complaint type) are equal, meaning there is no statistically significant difference among the groups (complaint types).\n",
    "\n",
    "Thus, if the p-value is not statistically significant (greater than 0.05), we do not have enough evidence to claim that the Request_Closing_Time is significantly different across different complaint types. In other words, we cannot reject the possibility that the Request_Closing_Time is the same for all complaint types based on the available data."
   ]
  },
  {
   "cell_type": "markdown",
   "id": "656a4e5a",
   "metadata": {},
   "source": [
    "<b>7.2 Reject H0: One or more sample distributions are not\n",
    "equal"
   ]
  },
  {
   "cell_type": "markdown",
   "id": "1c329e9c",
   "metadata": {},
   "source": [
    "If the p-value obtained from the Kruskal-Wallis test (or any statistical test) is less than the chosen significance level (e.g., 0.05), we reject the null hypothesis (H0). In the context of the Kruskal-Wallis test, rejecting the null hypothesis means that there is sufficient evidence to suggest that at least one of the sample distributions (in this case, the Request_Closing_Time for at least one complaint type) is statistically significantly different from the others.\n",
    "\n",
    "In simpler terms, if the p-value is statistically significant (less than 0.05), we can conclude that there is a statistically significant difference in Request_Closing_Time among different complaint types. We can then proceed with further post-hoc tests or additional analyses to identify which complaint types are significantly different from each other."
   ]
  },
  {
   "cell_type": "code",
   "execution_count": null,
   "id": "d06ef4ce",
   "metadata": {},
   "outputs": [],
   "source": []
  }
 ],
 "metadata": {
  "kernelspec": {
   "display_name": "Python 3 (ipykernel)",
   "language": "python",
   "name": "python3"
  },
  "language_info": {
   "codemirror_mode": {
    "name": "ipython",
    "version": 3
   },
   "file_extension": ".py",
   "mimetype": "text/x-python",
   "name": "python",
   "nbconvert_exporter": "python",
   "pygments_lexer": "ipython3",
   "version": "3.10.9"
  }
 },
 "nbformat": 4,
 "nbformat_minor": 5
}
