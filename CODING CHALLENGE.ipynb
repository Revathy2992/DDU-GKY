{
 "cells": [
  {
   "cell_type": "markdown",
   "id": "1d17867b",
   "metadata": {},
   "source": [
    "###### 1. Given the participants&#39; score sheet for your University Sports Day, you are required to find the runner-up score. You are given ‘n’ scores. Store them in a list and find the score of the runner-up. Given list is [2,3,4,6,5,5]. The maximum score is 6, second maximum is 5. Hence, we  print 5 as the runner-up score."
   ]
  },
  {
   "cell_type": "code",
   "execution_count": 28,
   "id": "acff92d8",
   "metadata": {},
   "outputs": [
    {
     "name": "stdout",
     "output_type": "stream",
     "text": [
      "enter the number of scores:3\n",
      "Enter the scores separated by space: 1 \n",
      "Enter the scores separated by space: 2 \n",
      "Enter the scores separated by space: 6 \n",
      "[[1], [2], [6]]\n"
     ]
    }
   ],
   "source": [
    "n= int(input(\"enter the number of scores:\"))\n",
    "scores = list(map(int, input(\"Enter the scores separated by space: \").split()))\n",
    "\n",
    "max_score = max(scores)\n",
    "scores.remove(max_score)\n",
    "runner_up_score = max(scores)\n",
    "\n",
    "print(runner_up_score)"
   ]
  },
  {
   "cell_type": "code",
   "execution_count": 35,
   "id": "81b73139",
   "metadata": {},
   "outputs": [
    {
     "name": "stdout",
     "output_type": "stream",
     "text": [
      "enter the number of scores:3\n",
      "enter the number of scores:1 \n",
      "enter the number of scores:2 \n",
      "enter the number of scores:3 \n",
      "[1, 2, 3]\n",
      "2\n"
     ]
    }
   ],
   "source": [
    "n= int(input(\"enter the number of scores:\"))\n",
    "scores=[]\n",
    "for i in range(n):\n",
    "    a=int(input(\"enter the number of scores:\"))\n",
    "    scores.append(a)\n",
    "print(scores)\n",
    "max_score = max(scores)\n",
    "scores.remove(max_score)\n",
    "runner_up_score = max(scores)\n",
    "\n",
    "print(runner_up_score)  \n",
    "   "
   ]
  },
  {
   "cell_type": "code",
   "execution_count": null,
   "id": "ce859560",
   "metadata": {},
   "outputs": [],
   "source": [
    "n= int(input(\"enter the number of scores:\"))\n",
    "scores = list(map(int, input(\"Enter the scores separated by space: \").split()))"
   ]
  },
  {
   "cell_type": "markdown",
   "id": "d2721cbb",
   "metadata": {},
   "source": [
    "###### 2. You are given an integer N, your task is to print an alphabet rangoli of size N.(Rangoli is a form of Indian folk art based on creation of patterns.) Different sizes of alphabet rangoli are shown below:"
   ]
  },
  {
   "cell_type": "code",
   "execution_count": 5,
   "id": "85d03ec3",
   "metadata": {},
   "outputs": [
    {
     "name": "stdout",
     "output_type": "stream",
     "text": [
      "------------------------g------------------------\n",
      "--------------------f---g---f--------------------\n",
      "----------------e---f---g---f---e----------------\n",
      "------------d---e---f---g---f---e---d------------\n",
      "--------c---d---e---f---g---f---e---d---c--------\n",
      "----b---c---d---e---f---g---f---e---d---c---b----\n",
      "a---b---c---d---e---f---g---f---e---d---c---b---a\n",
      "----b---c---d---e---f---g---f---e---d---c---b----\n",
      "--------c---d---e---f---g---f---e---d---c--------\n",
      "------------d---e---f---g---f---e---d------------\n",
      "----------------e---f---g---f---e----------------\n",
      "--------------------f---g---f--------------------\n",
      "------------------------g------------------------\n"
     ]
    }
   ],
   "source": [
    "def print_alphabet_rangoli(size):\n",
    "    import string\n",
    "    \n",
    "    if size <= 0:\n",
    "        print(\"Invalid input! Size should be a positive integer.\")\n",
    "        return\n",
    "\n",
    "    alphabet = string.ascii_lowercase[:size]\n",
    "\n",
    "    # Create the top half of the rangoli\n",
    "    for i in range(size - 1, -size, -1):\n",
    "        row = ['-'] * (4 * size - 3)\n",
    "        for j in range(size - abs(i)):\n",
    "            row[2 * (size - 1) + j * 2] = alphabet[size - j - 1]\n",
    "            row[2 * (size - 1) - j * 2] = alphabet[size - j - 1]\n",
    "        print('-'.join(row))\n",
    "\n",
    "# Test the function\n",
    "N = 7\n",
    "print_alphabet_rangoli(N)"
   ]
  },
  {
   "cell_type": "markdown",
   "id": "3d7ec1e6",
   "metadata": {},
   "source": [
    "###### 3. You are given a String. Your task is to delete vowels in that string. For example, your string is ‘hi iam learning python’ then the output will be ‘h m lrnng pythn’."
   ]
  },
  {
   "cell_type": "code",
   "execution_count": 2,
   "id": "e8051755",
   "metadata": {},
   "outputs": [
    {
     "name": "stdout",
     "output_type": "stream",
     "text": [
      "h m lrnng pythn\n"
     ]
    }
   ],
   "source": [
    "def remove_vowels(input_string):\n",
    "    vowels = \"aeiouAEIOU\"\n",
    "    return \"\".join(char for char in input_string if char not in vowels)\n",
    "\n",
    "# Test the function\n",
    "input_string = 'hi iam learning python'\n",
    "output_string = remove_vowels(input_string)\n",
    "print(output_string)"
   ]
  },
  {
   "cell_type": "code",
   "execution_count": null,
   "id": "dd66b239",
   "metadata": {},
   "outputs": [],
   "source": []
  }
 ],
 "metadata": {
  "kernelspec": {
   "display_name": "Python 3 (ipykernel)",
   "language": "python",
   "name": "python3"
  },
  "language_info": {
   "codemirror_mode": {
    "name": "ipython",
    "version": 3
   },
   "file_extension": ".py",
   "mimetype": "text/x-python",
   "name": "python",
   "nbconvert_exporter": "python",
   "pygments_lexer": "ipython3",
   "version": "3.10.9"
  }
 },
 "nbformat": 4,
 "nbformat_minor": 5
}
