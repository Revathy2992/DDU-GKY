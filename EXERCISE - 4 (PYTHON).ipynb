{
 "cells": [
  {
   "cell_type": "markdown",
   "id": "059dca21",
   "metadata": {},
   "source": [
    "##### 1. Write a Python function to sum all the numbers in a list.\n",
    "Sample List : (8, 2, 3, 0, 7)"
   ]
  },
  {
   "cell_type": "code",
   "execution_count": 3,
   "id": "3c7ba6da",
   "metadata": {},
   "outputs": [
    {
     "name": "stdout",
     "output_type": "stream",
     "text": [
      "20\n"
     ]
    }
   ],
   "source": [
    "def sum(list):\n",
    "    sum=0\n",
    "    for i in list:\n",
    "        sum=sum+i\n",
    "    return sum\n",
    "print(sum([8,2,3,0,7]))"
   ]
  },
  {
   "cell_type": "markdown",
   "id": "3dea5d18",
   "metadata": {},
   "source": [
    "#####  2. Write a Python function to multiply all the numbers in a list.\n",
    "Sample List : (8, 2, 3, -1, 7))"
   ]
  },
  {
   "cell_type": "code",
   "execution_count": 7,
   "id": "61fffa61",
   "metadata": {},
   "outputs": [
    {
     "name": "stdout",
     "output_type": "stream",
     "text": [
      "-336\n"
     ]
    }
   ],
   "source": [
    "def mul(list):\n",
    "    mul=1\n",
    "    for i in list:\n",
    "        mul=mul*i\n",
    "    return mul\n",
    "print(mul([8, 2, 3, -1, 7]))"
   ]
  },
  {
   "cell_type": "markdown",
   "id": "07917e12",
   "metadata": {},
   "source": [
    "##### 3. Write a Python function to calculate the factorial of a number (a non-negative integer). The function accepts the number as an argument."
   ]
  },
  {
   "cell_type": "code",
   "execution_count": 16,
   "id": "92530e0c",
   "metadata": {},
   "outputs": [
    {
     "name": "stdout",
     "output_type": "stream",
     "text": [
      "enter the number:20\n",
      "factorial of 20 is 2432902008176640000\n"
     ]
    }
   ],
   "source": [
    "a=int(input(\"enter the number:\"))\n",
    "def fact(a):\n",
    "    fact=1\n",
    "    for i in range(1,a+1):\n",
    "     fact=fact*i\n",
    "    return fact\n",
    "print(\"factorial of\",a,\"is\",fact(a))"
   ]
  },
  {
   "cell_type": "markdown",
   "id": "72cfbc8e",
   "metadata": {},
   "source": [
    "##### 4. Write a Python function to check whether a number falls within a given range."
   ]
  },
  {
   "cell_type": "code",
   "execution_count": 5,
   "id": "6a397a02",
   "metadata": {},
   "outputs": [
    {
     "name": "stdout",
     "output_type": "stream",
     "text": [
      "enter the number:3\n",
      "enter a range1\n"
     ]
    }
   ],
   "source": [
    "a=int(input(\"enter the number:\"))\n",
    "range1=int(input(\"enter a range\"))\n",
    "def numcheck(a,range1):\n",
    "    if (0<=a<=range1):\n",
    "        print(\"fall in given range\")\n",
    "    else:\n",
    "        print(\"not\")\n",
    "        numcheck(a,range1)"
   ]
  },
  {
   "cell_type": "markdown",
   "id": "ea61d82c",
   "metadata": {},
   "source": [
    "##### 5. Write a Python function that accepts a string and counts the number of upper and lower case letters.\n",
    "Sample String :'The quick Brow Fox'\n",
    "\n",
    "Expected Output :\n",
    "No. of Upper case characters : 3\n",
    "\n",
    "No. of Lower case Characters : 12"
   ]
  },
  {
   "cell_type": "code",
   "execution_count": 7,
   "id": "394f49b9",
   "metadata": {},
   "outputs": [
    {
     "name": "stdout",
     "output_type": "stream",
     "text": [
      "upper 3\n",
      "lower 12\n"
     ]
    }
   ],
   "source": [
    "s1=\"The quick Brow Fox\"\n",
    "def string_check(s1):\n",
    "    c=0\n",
    "    b=0\n",
    "    for i in s1:\n",
    "        if i.isalpha():\n",
    "            if i.isupper():\n",
    "             c+=1\n",
    "            else:\n",
    "                b+=1\n",
    "    print(\"upper\",c)\n",
    "    print(\"lower\",b)\n",
    "string_check(s1)"
   ]
  },
  {
   "cell_type": "markdown",
   "id": "742ab4c7",
   "metadata": {},
   "source": [
    "###### 6. Write a Python function that takes a list and returns a new list with distinct elementsfrom the first list.\n",
    "Sample List : [1,2,3,3,3,3,4,5]\n",
    "\n",
    "Unique List : [1, 2, 3, 4, 5]"
   ]
  },
  {
   "cell_type": "code",
   "execution_count": 8,
   "id": "4464437e",
   "metadata": {},
   "outputs": [
    {
     "name": "stdout",
     "output_type": "stream",
     "text": [
      "[1, 2, 3, 4, 5]\n"
     ]
    }
   ],
   "source": [
    "def distinct_list(l):\n",
    "    l1=[]\n",
    "    for i in l:\n",
    "        if i not in l1:\n",
    "            l1.append(i)\n",
    "    return l1\n",
    "print(distinct_list([1,2,3,3,3,3,3,4,5]))\n",
    "    \n",
    "    "
   ]
  },
  {
   "cell_type": "markdown",
   "id": "72816127",
   "metadata": {},
   "source": [
    "##### 7. Write a Python function that takes a number as a parameter and checks whether the number is prime or not."
   ]
  },
  {
   "cell_type": "code",
   "execution_count": 9,
   "id": "3ff6440d",
   "metadata": {},
   "outputs": [
    {
     "name": "stdout",
     "output_type": "stream",
     "text": [
      "enter number:20\n",
      "not\n"
     ]
    }
   ],
   "source": [
    "n=int(input(\"enter number:\"))\n",
    "k=0\n",
    "for i in range(2,n//2+1):\n",
    "     if(n%i==0):\n",
    "        k=k+1\n",
    "if(k<=0):\n",
    "    print(\"number is prime\")\n",
    "else:\n",
    "    print(\"not\")"
   ]
  },
  {
   "cell_type": "code",
   "execution_count": 10,
   "id": "900561fd",
   "metadata": {},
   "outputs": [
    {
     "name": "stdout",
     "output_type": "stream",
     "text": [
      "True\n"
     ]
    }
   ],
   "source": [
    "def prime(n):\n",
    "    if n==1:\n",
    "        return False\n",
    "    elif (n==2):\n",
    "        return True\n",
    "    else:\n",
    "        for i in range(2,n):\n",
    "            if (n%i==0):\n",
    "                return False\n",
    "        return True\n",
    "print(prime(5))"
   ]
  },
  {
   "cell_type": "markdown",
   "id": "a2c5ccd1",
   "metadata": {},
   "source": [
    "###### 8. Write a Python function to check whether a number is \"Perfect\" or not."
   ]
  },
  {
   "cell_type": "code",
   "execution_count": null,
   "id": "a2def048",
   "metadata": {},
   "outputs": [],
   "source": []
  }
 ],
 "metadata": {
  "kernelspec": {
   "display_name": "Python 3 (ipykernel)",
   "language": "python",
   "name": "python3"
  },
  "language_info": {
   "codemirror_mode": {
    "name": "ipython",
    "version": 3
   },
   "file_extension": ".py",
   "mimetype": "text/x-python",
   "name": "python",
   "nbconvert_exporter": "python",
   "pygments_lexer": "ipython3",
   "version": "3.10.9"
  }
 },
 "nbformat": 4,
 "nbformat_minor": 5
}
