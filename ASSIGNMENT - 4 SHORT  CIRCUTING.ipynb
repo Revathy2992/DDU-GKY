{
 "cells": [
  {
   "cell_type": "markdown",
   "id": "0aa55039",
   "metadata": {},
   "source": [
    "###### 1.  Sarah is working on a program that checks if a string contains both the letters \"a\" and \"b\". She is stuck and needs help understanding how to use short-circuiting in Python to check for both conditions. Sarah is a software developer working on a program that analyzes text data. As part of her program, she needs to check if a given string contains both the letters \"a\" and \"b\". She has written a function to do this, but it is not working as expected. She knows that she needs to use a conditional statement to check for both conditions, but she is not sure how to do it. \n",
    "How can Sarah use short-circuiting in Python to check if a string contains both the letters \"a\" and \"b\"?"
   ]
  },
  {
   "cell_type": "code",
   "execution_count": 1,
   "id": "3378bf9b",
   "metadata": {},
   "outputs": [
    {
     "name": "stdout",
     "output_type": "stream",
     "text": [
      "enter a and b string:ABU\n",
      "if a and b in string\n"
     ]
    }
   ],
   "source": [
    "Program=input('enter a and b string:').lower()\n",
    "if 'a' and 'b' in Program:\n",
    "    print('if a and b in string')\n",
    "else:\n",
    "     print('if a and b not in string')\n"
   ]
  },
  {
   "cell_type": "markdown",
   "id": "259c0b53",
   "metadata": {},
   "source": [
    "###### 2.You are working on a function that takes in a list of numbers and your goal is to check if any two numbers in the list add up to 10. You are working on a program that helps people identify pairs of numbers that add up to 10. You have a long list of numbers and you want to know if there are any pairs of numbers in the list that add up to 10. You know that checking every possible combination of two numbers in the list would take too long, so you decide to write a function to automate the process.\n",
    "\n",
    "How can you use short-circuiting to optimize your function and minimize the number of comparisons made?"
   ]
  },
  {
   "cell_type": "code",
   "execution_count": 2,
   "id": "c4cf77b9",
   "metadata": {},
   "outputs": [
    {
     "name": "stdout",
     "output_type": "stream",
     "text": [
      "[(1, 9), (2, 8), (3, 7), (0, 10), (5, 5), (4, 6)]\n"
     ]
    }
   ],
   "source": [
    "z=[]\n",
    "c=[1,2,3,0,5,4,6,8,7,9,1,12,10,1,3]\n",
    "for i in c:\n",
    "    for j in c:\n",
    "        if j>=i:\n",
    "            if i+j == 10:\n",
    "                a =i,j\n",
    "                if a not in z:\n",
    "                    z.append(a)\n",
    "print(z)\n",
    "                \n",
    "\n"
   ]
  },
  {
   "cell_type": "markdown",
   "id": "a6012093",
   "metadata": {},
   "source": [
    "###### 3. In 2023, India's  74th Republic day celebration, many  National Cadet Corps(NCC) cadets who get a chance to participate in the  republic day programmes. In this context, the eligibility criteria of RDC cadets is  ,if the cadet is SW, their age limit is b/w 18and 21 but  the cadet is SD , their age criteria is from 18 to 23.in any gender more than 24, they could not participate RDC parade."
   ]
  },
  {
   "cell_type": "code",
   "execution_count": 3,
   "id": "6e5ff2d7",
   "metadata": {},
   "outputs": [
    {
     "name": "stdout",
     "output_type": "stream",
     "text": [
      "enter the sex:SD\n",
      "enter the Age:23\n",
      "SD are eligble\n"
     ]
    }
   ],
   "source": [
    "Sex=input('enter the sex:')\n",
    "Age=int(input('enter the Age:'))\n",
    "if Sex ==  'SW':\n",
    "    if 18<Age<21:\n",
    "        print('SW are eligible')\n",
    "    else:\n",
    "        print('not eligible')\n",
    "elif Sex == 'SD':\n",
    "    if 18<Age<=23:\n",
    "        print('SD are eligble')\n",
    "    else:\n",
    "        print('not eligible')"
   ]
  },
  {
   "cell_type": "code",
   "execution_count": null,
   "id": "731eb106",
   "metadata": {},
   "outputs": [],
   "source": []
  }
 ],
 "metadata": {
  "kernelspec": {
   "display_name": "Python 3 (ipykernel)",
   "language": "python",
   "name": "python3"
  },
  "language_info": {
   "codemirror_mode": {
    "name": "ipython",
    "version": 3
   },
   "file_extension": ".py",
   "mimetype": "text/x-python",
   "name": "python",
   "nbconvert_exporter": "python",
   "pygments_lexer": "ipython3",
   "version": "3.10.9"
  }
 },
 "nbformat": 4,
 "nbformat_minor": 5
}
