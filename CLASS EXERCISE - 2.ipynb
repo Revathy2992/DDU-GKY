{
 "cells": [
  {
   "cell_type": "markdown",
   "id": "75cdaf63",
   "metadata": {},
   "source": [
    "<b> Student management system in Python\n",
    "Problem Statement: Write a program to build a simple Student Management System using\n",
    "Python which can perform the following operations:\n",
    "1. Accept\n",
    "2. Display\n",
    "3. Search\n",
    "4. Delete\n",
    "5. Update\n",
    "Approach: Below is the approach to doing the above operations:"
   ]
  },
  {
   "cell_type": "markdown",
   "id": "3cbf3bf2",
   "metadata": {},
   "source": [
    "<b> 1 Accept – This method takes details from the user like name, roll number, and marks\n",
    "for two different subjects."
   ]
  },
  {
   "cell_type": "code",
   "execution_count": 4,
   "id": "b5fbc2fa",
   "metadata": {},
   "outputs": [
    {
     "name": "stdout",
     "output_type": "stream",
     "text": [
      "nameanjana\n",
      "roll number1\n",
      "mark of subject 134\n",
      "mark of subject 245\n"
     ]
    }
   ],
   "source": [
    "class student:\n",
    "    def __init__(self):\n",
    "        self.name=[]\n",
    "        self.rollno=[]\n",
    "        self.sub1=[]\n",
    "        self.sub2=[]\n",
    "    def accept(self):\n",
    "        name=input('name')\n",
    "        rollno=int(input('roll number'))\n",
    "        sub1=int(input('mark of subject 1'))\n",
    "        sub2=int(input('mark of subject 2'))\n",
    "        self.name.append(name)\n",
    "        self.rollno.append(rollno)\n",
    "        self.sub1.append(sub1)\n",
    "        self.sub2.append(sub2)\n",
    "    def display(self):\n",
    "        for i in range(len(self.name)):\n",
    "            print('name :',self.name[i],'\\n','Rollno',self.rollno[i],'\\n','subject1 :',self.sub1[i],'\\n','subject2 :',self.sub2[i])\n",
    "    def search(self):\n",
    "        rollnumber=int(input('roll number'))\n",
    "        if rollnumber in self.rollno:\n",
    "            a=self.rollno.index(rollnumber)\n",
    "            print(' name :',self.name[a],'\\n','Rollno',self.rollno[a],'\\n','subject1 :',self.sub1[a],'\\n','subject2 :',self.sub2[a])\n",
    "    def delete(self):\n",
    "        rollnumber=int(input('roll number'))\n",
    "        if rollnumber in self.rollno:\n",
    "            a=self.rollno.index(rollnumber)\n",
    "            print(f'details of {self.name[a]} is deleted')\n",
    "            self.name.pop(a)\n",
    "            self.rollno.pop(a)\n",
    "            self.sub1.pop(a)\n",
    "            self.sub2.pop(a)\n",
    "    def update(self):\n",
    "        rollnumber=int(input('old roll number'))\n",
    "        nroll=int(input('new roll number'))\n",
    "        if rollnumber in self.rollno:\n",
    "            a=self.rollno.index(rollnumber)\n",
    "            self.rollno[a]=nroll\n",
    "            print(f'roll number of {self.name[a]} is successfully updated')\n",
    "\n",
    "c1=student()\n",
    "c1.accept()\n",
    "\n"
   ]
  },
  {
   "cell_type": "code",
   "execution_count": 5,
   "id": "b0f3a210",
   "metadata": {},
   "outputs": [
    {
     "name": "stdout",
     "output_type": "stream",
     "text": [
      "nameadsfg\n",
      "roll number2\n",
      "mark of subject 134\n",
      "mark of subject 256\n"
     ]
    }
   ],
   "source": [
    "c1.accept()"
   ]
  },
  {
   "cell_type": "markdown",
   "id": "b89a2b70",
   "metadata": {},
   "source": [
    "<b>2 Display – This method displays the details of every student."
   ]
  },
  {
   "cell_type": "code",
   "execution_count": 13,
   "id": "f4f07d93",
   "metadata": {
    "scrolled": true
   },
   "outputs": [
    {
     "name": "stdout",
     "output_type": "stream",
     "text": [
      "name : anjana \n",
      " Rollno 2 \n",
      " subject1 : 34 \n",
      " subject2 : 45\n"
     ]
    }
   ],
   "source": [
    "c1.display()"
   ]
  },
  {
   "cell_type": "markdown",
   "id": "4eee26a8",
   "metadata": {},
   "source": [
    "<b> 3 Search – This method searches for a particular student from the list of students.\n",
    "This method will ask the user for roll number and then search according to the roll\n",
    "number"
   ]
  },
  {
   "cell_type": "code",
   "execution_count": 7,
   "id": "10e6fe78",
   "metadata": {},
   "outputs": [
    {
     "name": "stdout",
     "output_type": "stream",
     "text": [
      "roll number2\n",
      " name : adsfg \n",
      " Rollno 2 \n",
      " subject1 : 34 \n",
      " subject2 : 56\n"
     ]
    }
   ],
   "source": [
    "c1.search()"
   ]
  },
  {
   "cell_type": "markdown",
   "id": "7580ac42",
   "metadata": {},
   "source": [
    "<b>4 Delete – This method deletes the record of a particular student with a matching roll\n",
    "number."
   ]
  },
  {
   "cell_type": "code",
   "execution_count": 8,
   "id": "9ca75f6d",
   "metadata": {
    "scrolled": true
   },
   "outputs": [
    {
     "name": "stdout",
     "output_type": "stream",
     "text": [
      "roll number2\n",
      "details of adsfg is deleted\n"
     ]
    }
   ],
   "source": [
    "c1.delete()"
   ]
  },
  {
   "cell_type": "code",
   "execution_count": 9,
   "id": "bdf11812",
   "metadata": {},
   "outputs": [
    {
     "name": "stdout",
     "output_type": "stream",
     "text": [
      "name : anjana \n",
      " Rollno 1 \n",
      " subject1 : 34 \n",
      " subject2 : 45\n"
     ]
    }
   ],
   "source": [
    "c1.display()"
   ]
  },
  {
   "cell_type": "markdown",
   "id": "316e075e",
   "metadata": {},
   "source": [
    "<b>5 Update – This method updates the roll number of the student. This method will ask\n",
    "for the old roll number and new roll number. It will replace the old roll number with\n",
    "a new roll number."
   ]
  },
  {
   "cell_type": "markdown",
   "id": "044cd009",
   "metadata": {},
   "source": [
    "c1.update()"
   ]
  },
  {
   "cell_type": "code",
   "execution_count": 11,
   "id": "5bbd1d3c",
   "metadata": {},
   "outputs": [
    {
     "name": "stdout",
     "output_type": "stream",
     "text": [
      "name : anjana \n",
      " Rollno 2 \n",
      " subject1 : 34 \n",
      " subject2 : 45\n"
     ]
    }
   ],
   "source": [
    "c1.display()"
   ]
  },
  {
   "cell_type": "code",
   "execution_count": null,
   "id": "2b46265a",
   "metadata": {},
   "outputs": [],
   "source": []
  }
 ],
 "metadata": {
  "kernelspec": {
   "display_name": "Python 3 (ipykernel)",
   "language": "python",
   "name": "python3"
  },
  "language_info": {
   "codemirror_mode": {
    "name": "ipython",
    "version": 3
   },
   "file_extension": ".py",
   "mimetype": "text/x-python",
   "name": "python",
   "nbconvert_exporter": "python",
   "pygments_lexer": "ipython3",
   "version": "3.10.9"
  }
 },
 "nbformat": 4,
 "nbformat_minor": 5
}
